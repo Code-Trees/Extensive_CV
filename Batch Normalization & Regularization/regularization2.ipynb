{
 "cells": [
  {
   "cell_type": "code",
   "execution_count": 46,
   "metadata": {},
   "outputs": [
    {
     "data": {
      "application/javascript": [
       "IPython.notebook.set_autosave_interval(20000)"
      ]
     },
     "metadata": {},
     "output_type": "display_data"
    },
    {
     "name": "stdout",
     "output_type": "stream",
     "text": [
      "Autosaving every 20 seconds\n"
     ]
    }
   ],
   "source": [
    "from IPython.core.interactiveshell import InteractiveShell\n",
    "InteractiveShell.ast_node_interactivity = 'all'\n",
    "%autosave 20"
   ]
  },
  {
   "cell_type": "markdown",
   "metadata": {},
   "source": [
    "### Import Libraries"
   ]
  },
  {
   "cell_type": "code",
   "execution_count": 82,
   "metadata": {},
   "outputs": [],
   "source": [
    "#Torch Libs\n",
    "import torch\n",
    "import torch.nn as nn\n",
    "import torch.nn.functional as F\n",
    "import torch.optim as optim\n",
    "from torchvision import datasets, transforms, utils\n",
    "from torch.optim.lr_scheduler import StepLR, OneCycleLR\n",
    "\n",
    "#Utility and Plot Libs\n",
    "import matplotlib.pyplot as plt\n",
    "import seaborn as sns\n",
    "import pandas as pd\n",
    "import numpy as np\n",
    "from skimage import io\n",
    "import matplotlib.pyplot as plt\n",
    "from tqdm import tqdm\n",
    "\n",
    "from IPython.display import Image\n"
   ]
  },
  {
   "cell_type": "markdown",
   "metadata": {},
   "source": [
    "### Pytorch Version check"
   ]
  },
  {
   "cell_type": "code",
   "execution_count": 83,
   "metadata": {},
   "outputs": [
    {
     "data": {
      "text/plain": [
       "'1.13.0'"
      ]
     },
     "execution_count": 83,
     "metadata": {},
     "output_type": "execute_result"
    }
   ],
   "source": [
    "torch.__version__"
   ]
  },
  {
   "cell_type": "markdown",
   "metadata": {},
   "source": [
    "### Data Transformation"
   ]
  },
  {
   "cell_type": "code",
   "execution_count": 84,
   "metadata": {},
   "outputs": [],
   "source": [
    "#Need to create a data Trandform function here. there transform objects will be use fulll to apply on data"
   ]
  },
  {
   "cell_type": "code",
   "execution_count": 85,
   "metadata": {},
   "outputs": [],
   "source": [
    "train_transforms = transforms.Compose([\n",
    "                                      #  transforms.Resize((28, 28)),\n",
    "                                      #  transforms.ColorJitter(brightness=0.10, contrast=0.1, saturation=0.10, hue=0.1),\n",
    "                                       transforms.RandomRotation((-15.0, 15.0), fill=(1,)),\n",
    "                                       transforms.ToTensor(),\n",
    "                                       transforms.Normalize((0.1307,), (0.3081,)) # The mean and std have to be sequences (e.g., tuples), therefore you should add a comma after the values. \n",
    "                                       ])\n",
    "\n",
    "\n",
    "test_transforms = transforms.Compose([\n",
    "                                      #  transforms.Resize((28, 28)),\n",
    "                                      #  transforms.ColorJitter(brightness=0.10, contrast=0.1, saturation=0.10, hue=0.1),\n",
    "                                       transforms.ToTensor(),\n",
    "                                       transforms.Normalize((0.1307,), (0.3081,)) # The mean and std have to be sequences (e.g., tuples), therefore you should add a comma after the values. \n",
    "                                       ])"
   ]
  },
  {
   "cell_type": "markdown",
   "metadata": {},
   "source": [
    "### Creating the Trainning and Testing data  "
   ]
  },
  {
   "cell_type": "code",
   "execution_count": 86,
   "metadata": {},
   "outputs": [],
   "source": [
    "#Here applying the transform function we hafve created.\n",
    "#What is target_transform , Need to understand\n",
    "\n",
    "train = datasets.MNIST('../data', train = True,  transform = train_transforms,  target_transform = None,  download = True)\n",
    "test  = datasets.MNIST('../data', train = False,  transform = test_transforms,   target_transform = None,  download = True)\n"
   ]
  },
  {
   "cell_type": "code",
   "execution_count": 87,
   "metadata": {},
   "outputs": [
    {
     "data": {
      "text/plain": [
       "torchvision.datasets.mnist.MNIST"
      ]
     },
     "execution_count": 87,
     "metadata": {},
     "output_type": "execute_result"
    },
    {
     "data": {
      "text/plain": [
       "torchvision.datasets.mnist.MNIST"
      ]
     },
     "execution_count": 87,
     "metadata": {},
     "output_type": "execute_result"
    }
   ],
   "source": [
    "type(train)\n",
    "type(test)"
   ]
  },
  {
   "cell_type": "markdown",
   "metadata": {},
   "source": [
    "### Creating Data Loader"
   ]
  },
  {
   "cell_type": "markdown",
   "metadata": {},
   "source": [
    "#### Cuda Checker"
   ]
  },
  {
   "cell_type": "code",
   "execution_count": 88,
   "metadata": {},
   "outputs": [
    {
     "name": "stdout",
     "output_type": "stream",
     "text": [
      "Is Cuda Available ? True\n"
     ]
    }
   ],
   "source": [
    "cuda = torch.cuda.is_available()\n",
    "print ('Is Cuda Available ?',cuda)"
   ]
  },
  {
   "cell_type": "code",
   "execution_count": 89,
   "metadata": {},
   "outputs": [],
   "source": [
    "SEED = 1\n",
    "\n",
    "if cuda:\n",
    "    torch.cuda.manual_seed(SEED)\n",
    "else:\n",
    "    torch.manual_seed(SEED)"
   ]
  },
  {
   "cell_type": "markdown",
   "metadata": {},
   "source": [
    "#### Based on the cuda availability we are defining the things"
   ]
  },
  {
   "cell_type": "code",
   "execution_count": 90,
   "metadata": {},
   "outputs": [],
   "source": [
    "dataloader_args = dict(shuffle = True,batch_size = 128,num_workers = 4, pin_memory = True) if cuda else dict(shuffle = True,batch_size = 64)"
   ]
  },
  {
   "cell_type": "code",
   "execution_count": 91,
   "metadata": {},
   "outputs": [
    {
     "data": {
      "text/plain": [
       "{'shuffle': True, 'batch_size': 128, 'num_workers': 4, 'pin_memory': True}"
      ]
     },
     "execution_count": 91,
     "metadata": {},
     "output_type": "execute_result"
    }
   ],
   "source": [
    "dataloader_args"
   ]
  },
  {
   "cell_type": "code",
   "execution_count": 92,
   "metadata": {},
   "outputs": [],
   "source": [
    "train_loader = torch.utils.data.DataLoader(train,**dataloader_args)\n",
    "test_loader = torch.utils.data.DataLoader(test,**dataloader_args)"
   ]
  },
  {
   "cell_type": "code",
   "execution_count": 93,
   "metadata": {},
   "outputs": [
    {
     "data": {
      "text/plain": [
       "'/home/jd/Desktop/Computer vision/Extensive_CV/Batch Normalization & Regularization'"
      ]
     },
     "execution_count": 93,
     "metadata": {},
     "output_type": "execute_result"
    }
   ],
   "source": [
    "pwd"
   ]
  },
  {
   "cell_type": "markdown",
   "metadata": {},
   "source": [
    "### Extracting Statistics"
   ]
  },
  {
   "cell_type": "raw",
   "metadata": {},
   "source": [
    "train_data = train.train_data\n",
    "train_data = train.transform(train_data.numpy())"
   ]
  },
  {
   "cell_type": "raw",
   "metadata": {},
   "source": [
    "print('[Train]')\n",
    "print(' - Numpy Shape:', train.train_data.cpu().numpy().shape)\n",
    "print(' - Tensor Shape:', train.train_data.size())\n",
    "print(' - min:', torch.min(train_data))\n",
    "print(' - max:', torch.max(train_data))\n",
    "print(' - mean:', torch.mean(train_data))\n",
    "print(' - std:', torch.std(train_data))\n",
    "print(' - var:', torch.var(train_data))"
   ]
  },
  {
   "cell_type": "code",
   "execution_count": 94,
   "metadata": {},
   "outputs": [],
   "source": [
    "dataiter = iter(train_loader)\n",
    "images,label = next(dataiter)"
   ]
  },
  {
   "cell_type": "code",
   "execution_count": 95,
   "metadata": {},
   "outputs": [
    {
     "name": "stdout",
     "output_type": "stream",
     "text": [
      "torch.Size([128, 1, 28, 28])\n",
      "torch.Size([128])\n"
     ]
    }
   ],
   "source": [
    "print(images.shape)\n",
    "print(label.shape)"
   ]
  },
  {
   "cell_type": "code",
   "execution_count": 96,
   "metadata": {},
   "outputs": [
    {
     "data": {
      "text/plain": [
       "<matplotlib.image.AxesImage at 0x7fa47570cc40>"
      ]
     },
     "execution_count": 96,
     "metadata": {},
     "output_type": "execute_result"
    },
    {
     "data": {
      "image/png": "[encoded data removed]",
      "text/plain": [
       "<Figure size 640x480 with 1 Axes>"
      ]
     },
     "metadata": {},
     "output_type": "display_data"
    }
   ],
   "source": [
    "plt.imshow(images[0].numpy().squeeze(),cmap = 'gray_r')"
   ]
  },
  {
   "cell_type": "markdown",
   "metadata": {},
   "source": [
    "### Plotting all the image"
   ]
  },
  {
   "cell_type": "code",
   "execution_count": 97,
   "metadata": {},
   "outputs": [
    {
     "data": {
      "image/png": "[encoded data removed]",
      "text/plain": [
       "<Figure size 640x480 with 63 Axes>"
      ]
     },
     "metadata": {},
     "output_type": "display_data"
    }
   ],
   "source": [
    "figure = plt.figure()\n",
    "num_of_images = 63\n",
    "for index in range(1, num_of_images + 1):\n",
    "    _= plt.subplot(10, 10, index)\n",
    "    _= plt.axis('off')\n",
    "    _= plt.imshow(images[index].numpy().squeeze(), cmap='gray_r')"
   ]
  },
  {
   "cell_type": "markdown",
   "metadata": {},
   "source": [
    "## Model Architecture"
   ]
  },
  {
   "cell_type": "markdown",
   "metadata": {},
   "source": [
    "## GBN"
   ]
  },
  {
   "cell_type": "code",
   "execution_count": null,
   "metadata": {},
   "outputs": [],
   "source": []
  },
  {
   "cell_type": "code",
   "execution_count": null,
   "metadata": {},
   "outputs": [],
   "source": []
  },
  {
   "cell_type": "code",
   "execution_count": 98,
   "metadata": {},
   "outputs": [],
   "source": [
    "class GhostBatchNorm(nn.BatchNorm2d):\n",
    "    \"\"\"\n",
    "    From : https://github.com/davidcpage/cifar10-fast/blob/master/bag_of_tricks.ipynb\n",
    "\n",
    "    Batch norm seems to work best with batch size of around 32. The reasons presumably have to do \n",
    "    with noise in the batch statistics and specifically a balance between a beneficial regularising effect \n",
    "    at intermediate batch sizes and an excess of noise at small batches.\n",
    "    \n",
    "    Our batches are of size 512 and we can't afford to reduce them without taking a serious hit on training times, \n",
    "    but we can apply batch norm separately to subsets of a training batch. This technique, known as 'ghost' batch \n",
    "    norm, is usually used in a distributed setting but is just as useful when using large batches on a single node. \n",
    "    It isn't supported directly in PyTorch but we can roll our own easily enough.\n",
    "    \"\"\"\n",
    "    def __init__(self, num_features, num_splits, eps=1e-05, momentum=0.1, weight=True, bias=True):\n",
    "        super(GhostBatchNorm, self).__init__(num_features, eps=eps, momentum=momentum)\n",
    "        self.weight.data.fill_(1.0)\n",
    "        self.bias.data.fill_(0.0)\n",
    "        self.weight.requires_grad = weight\n",
    "        self.bias.requires_grad = bias        \n",
    "        self.num_splits = num_splits\n",
    "        self.register_buffer('running_mean', torch.zeros(num_features*self.num_splits))\n",
    "        self.register_buffer('running_var', torch.ones(num_features*self.num_splits))\n",
    "\n",
    "    def train(self, mode=True):\n",
    "        if (self.training is True) and (mode is False):\n",
    "            self.running_mean = torch.mean(self.running_mean.view(self.num_splits, self.num_features), dim=0).repeat(self.num_splits)\n",
    "            self.running_var = torch.mean(self.running_var.view(self.num_splits, self.num_features), dim=0).repeat(self.num_splits)\n",
    "        return super(GhostBatchNorm, self).train(mode)\n",
    "        \n",
    "    def forward(self, input):\n",
    "        N, C, H, W = input.shape\n",
    "        if self.training or not self.track_running_stats:\n",
    "            return F.batch_norm(\n",
    "                input.view(-1, C*self.num_splits, H, W), self.running_mean, self.running_var, \n",
    "                self.weight.repeat(self.num_splits), self.bias.repeat(self.num_splits),\n",
    "                True, self.momentum, self.eps).view(N, C, H, W) \n",
    "        else:\n",
    "            return F.batch_norm(\n",
    "                input, self.running_mean[:self.num_features], self.running_var[:self.num_features], \n",
    "                self.weight, self.bias, False, self.momentum, self.eps)\n",
    "\n"
   ]
  },
  {
   "cell_type": "code",
   "execution_count": 99,
   "metadata": {},
   "outputs": [],
   "source": [
    "\n",
    "class Net(nn.Module):\n",
    "    def __init__(self,ghost = False):\n",
    "        super(Net, self).__init__()\n",
    "        self.dropout_value = 0.05\n",
    "        # Input Block\n",
    "        print('GHOST BHAI is ',ghost)\n",
    "        self.convblock1 = nn.Sequential(\n",
    "            nn.Conv2d(in_channels=1, out_channels=10, kernel_size=(3, 3), padding=0, bias=False),\n",
    "            nn.BatchNorm2d(10) if ghost is False else GhostBatchNorm(10, num_splits=4, weight=False),\n",
    "            nn.Dropout(self.dropout_value),\n",
    "            nn.ReLU()\n",
    "        ) # input_size = 28 output_size = 26 receptive_field = 3\n",
    "\n",
    "        # CONVOLUTION BLOCK 1\n",
    "        self.convblock2 = nn.Sequential(\n",
    "            nn.Conv2d(in_channels=10, out_channels=10, kernel_size=(3, 3), padding=0, bias=False),\n",
    "            nn.BatchNorm2d(10) if ghost is False else GhostBatchNorm(10, num_splits=4, weight=False),\n",
    "            nn.Dropout(self.dropout_value),\n",
    "            nn.ReLU(),\n",
    "        ) # input_size = 26 output_size = 24 receptive_field = 5\n",
    "        \n",
    "        self.convblock3 = nn.Sequential(\n",
    "            nn.Conv2d(in_channels=10, out_channels=10, kernel_size=(3, 3), padding=0, bias=False),\n",
    "            nn.BatchNorm2d(10) if ghost is False else GhostBatchNorm(10, num_splits=64//32, weight=False),\n",
    "            nn.Dropout(self.dropout_value),\n",
    "            nn.ReLU()\n",
    "        ) # input_size = 24 output_size = 22 receptive_field = 7       \n",
    "        \n",
    "        self.convblock4 = nn.Sequential(\n",
    "            nn.Conv2d(in_channels=10, out_channels=10, kernel_size=(3, 3), padding=0, bias=False),\n",
    "            nn.BatchNorm2d(10) if ghost is False else GhostBatchNorm(10, num_splits=64//32, weight=False),\n",
    "            nn.Dropout(self.dropout_value),\n",
    "            nn.ReLU()\n",
    "        ) # input_size = 22 output_size = 20 receptive_field = 9        \n",
    "        \n",
    "        \n",
    "        self.pool1 = nn.MaxPool2d(2, 2) # input_size = 20 output_size = 10 receptive_field = 18\n",
    "\n",
    "        # CONVOLUTION BLOCK 2\n",
    "        self.convblock5 = nn.Sequential(\n",
    "            nn.Conv2d(in_channels=10, out_channels=10, kernel_size=(3, 3), padding=0, bias=False),\n",
    "            nn.BatchNorm2d(10) if ghost is False else GhostBatchNorm(10, num_splits=64//32, weight=False),\n",
    "            nn.Dropout(self.dropout_value),\n",
    "            nn.ReLU()\n",
    "        ) # input_size = 10 output_size = 8 receptive_field = 20\n",
    "        \n",
    "        self.convblock6 = nn.Sequential(\n",
    "            nn.Conv2d(in_channels=10, out_channels=16, kernel_size=(3, 3), padding=0, bias=False),\n",
    "            nn.BatchNorm2d(16) if ghost is False else GhostBatchNorm(16, num_splits=64//32, weight=False),\n",
    "            nn.Dropout(self.dropout_value),\n",
    "            nn.ReLU()\n",
    "        ) # input_size = 8 output_size = 6 receptive_field = 22\n",
    "        \n",
    "        self.convblock7 = nn.Sequential(\n",
    "            nn.Conv2d(in_channels=16, out_channels=16, kernel_size=(3, 3), padding=0, bias=False),\n",
    "            nn.BatchNorm2d(16) if ghost is False else GhostBatchNorm(16, num_splits=64//32, weight=False),\n",
    "            nn.Dropout(self.dropout_value),\n",
    "            nn.ReLU()\n",
    "        ) # input_size = 6 output_size = 4 receptive_field = 24\n",
    "        \n",
    "        self.gap = nn.AvgPool2d(kernel_size=(4,4)) \n",
    "        \n",
    "        self.convblock8 = nn.Sequential(\n",
    "            nn.Conv2d(in_channels=16, out_channels=10, kernel_size=(1, 1), padding=0, bias=False),\n",
    "        ) # input_size = 1 output_size = 1  receptive_field = 24\n",
    "        \n",
    "\n",
    "    def forward(self, x):\n",
    "        x = self.convblock1(x)\n",
    "        x = self.convblock2(x)\n",
    "        x = self.convblock3(x)\n",
    "        x = self.convblock4(x)\n",
    "        x = self.pool1(x)\n",
    "        x = self.convblock5(x)\n",
    "        x = self.convblock6(x)\n",
    "        x = self.convblock7(x)\n",
    "        x = self.gap(x)  \n",
    "        x = self.convblock8(x)\n",
    "        x = x.view(-1, 10)\n",
    "        \n",
    "        return F.log_softmax(x, dim=-1)"
   ]
  },
  {
   "cell_type": "markdown",
   "metadata": {},
   "source": [
    "### Model Param"
   ]
  },
  {
   "cell_type": "code",
   "execution_count": 100,
   "metadata": {},
   "outputs": [
    {
     "name": "stdout",
     "output_type": "stream",
     "text": [
      "cuda\n",
      "GHOST BHAI is  False\n",
      "----------------------------------------------------------------\n",
      "        Layer (type)               Output Shape         Param #\n",
      "================================================================\n",
      "            Conv2d-1           [-1, 10, 26, 26]              90\n",
      "       BatchNorm2d-2           [-1, 10, 26, 26]              20\n",
      "           Dropout-3           [-1, 10, 26, 26]               0\n",
      "              ReLU-4           [-1, 10, 26, 26]               0\n",
      "            Conv2d-5           [-1, 10, 24, 24]             900\n",
      "       BatchNorm2d-6           [-1, 10, 24, 24]              20\n",
      "           Dropout-7           [-1, 10, 24, 24]               0\n",
      "              ReLU-8           [-1, 10, 24, 24]               0\n",
      "            Conv2d-9           [-1, 10, 22, 22]             900\n",
      "      BatchNorm2d-10           [-1, 10, 22, 22]              20\n",
      "          Dropout-11           [-1, 10, 22, 22]               0\n",
      "             ReLU-12           [-1, 10, 22, 22]               0\n",
      "           Conv2d-13           [-1, 10, 20, 20]             900\n",
      "      BatchNorm2d-14           [-1, 10, 20, 20]              20\n",
      "          Dropout-15           [-1, 10, 20, 20]               0\n",
      "             ReLU-16           [-1, 10, 20, 20]               0\n",
      "        MaxPool2d-17           [-1, 10, 10, 10]               0\n",
      "           Conv2d-18             [-1, 10, 8, 8]             900\n",
      "      BatchNorm2d-19             [-1, 10, 8, 8]              20\n",
      "          Dropout-20             [-1, 10, 8, 8]               0\n",
      "             ReLU-21             [-1, 10, 8, 8]               0\n",
      "           Conv2d-22             [-1, 16, 6, 6]           1,440\n",
      "      BatchNorm2d-23             [-1, 16, 6, 6]              32\n",
      "          Dropout-24             [-1, 16, 6, 6]               0\n",
      "             ReLU-25             [-1, 16, 6, 6]               0\n",
      "           Conv2d-26             [-1, 16, 4, 4]           2,304\n",
      "      BatchNorm2d-27             [-1, 16, 4, 4]              32\n",
      "          Dropout-28             [-1, 16, 4, 4]               0\n",
      "             ReLU-29             [-1, 16, 4, 4]               0\n",
      "        AvgPool2d-30             [-1, 16, 1, 1]               0\n",
      "           Conv2d-31             [-1, 10, 1, 1]             160\n",
      "================================================================\n",
      "Total params: 7,758\n",
      "Trainable params: 7,758\n",
      "Non-trainable params: 0\n",
      "----------------------------------------------------------------\n",
      "Input size (MB): 0.00\n",
      "Forward/backward pass size (MB): 0.70\n",
      "Params size (MB): 0.03\n",
      "Estimated Total Size (MB): 0.74\n",
      "----------------------------------------------------------------\n"
     ]
    }
   ],
   "source": [
    "from torchsummary import summary\n",
    "use_cuda = torch.cuda.is_available()\n",
    "device = torch.device(\"cuda\" if use_cuda else \"cpu\")\n",
    "print(device)\n",
    "model = Net().to(device)\n",
    "summary(model, input_size=(1, 28, 28))"
   ]
  },
  {
   "cell_type": "code",
   "execution_count": 101,
   "metadata": {},
   "outputs": [],
   "source": [
    "#L1 Loss Calculator\n",
    "def L1_Loss_calc(model, factor=0.0005):\n",
    "    l1_crit = nn.L1Loss(size_average=False)\n",
    "    reg_loss = 0\n",
    "    for param in model.parameters():\n",
    "        #zero_vector = torch.rand_like(param)*0\n",
    "        zero_vector = torch.zeros_like(param)\n",
    "        reg_loss += l1_crit(param,zero_vector)\n",
    "    return factor * reg_loss"
   ]
  },
  {
   "cell_type": "code",
   "execution_count": 102,
   "metadata": {},
   "outputs": [],
   "source": [
    "from tqdm import tqdm\n",
    "\n",
    "def train(model, device, train_loader, optimizer, epoch,scheduler,l1_check =False):\n",
    "    model.train()\n",
    "    pbar = tqdm(train_loader)\n",
    "    train_loss = 0\n",
    "    correct = 0\n",
    "    processed = 0\n",
    "    for batch_idx, (data, target) in enumerate(pbar):\n",
    "        # get samples\n",
    "        data, target = data.to(device), target.to(device)\n",
    "\n",
    "        # Init\n",
    "        optimizer.zero_grad()\n",
    "        \n",
    "        # Predict\n",
    "        y_pred = model(data)\n",
    "\n",
    "        # Calculate loss\n",
    "        loss = F.nll_loss(y_pred, target)\n",
    "        #adding L1 loss function call \n",
    "\n",
    "        if( l1_check == True ):\n",
    "            regloss = L1_Loss_calc(model, 0.0005)\n",
    "            regloss /= len(data) # by batch size\n",
    "            loss += regloss\n",
    "\n",
    "        train_loss += loss.item()\n",
    "\n",
    "        # Backpropagation\n",
    "        loss.backward()\n",
    "        optimizer.step()\n",
    "\n",
    "        # Update pbar-tqdm\n",
    "\n",
    "        pred = y_pred.argmax(dim=1, keepdim=True)  # get the index of the max log-probability\n",
    "        correct += pred.eq(target.view_as(pred)).sum().item()\n",
    "        processed += len(data)\n",
    "\n",
    "#         pbar.set_description(desc= f'Loss={loss.item():0.6f} Batch_id={batch_idx} Accuracy={100*correct/processed:0.2f}')\n",
    "        pbar.set_description(desc= f'Loss={train_loss/(batch_idx+1):0.6f} Batch_id={batch_idx} Accuracy={100*correct/processed:0.2f}')\n",
    "\n",
    "    train_loss /= len(train_loader)\n",
    "    \n",
    "    acc = np.round(100. * correct/len(train_loader.dataset),2) #processed # \n",
    "    scheduler.step()\n",
    "    \n",
    "    return acc, np.round(train_loss,5)"
   ]
  },
  {
   "cell_type": "code",
   "execution_count": 103,
   "metadata": {},
   "outputs": [],
   "source": [
    "def test(model, device, test_loader,l1_check = False):\n",
    "    model.eval()\n",
    "    test_loss = 0\n",
    "    correct = 0\n",
    "    with torch.no_grad():\n",
    "        for data, target in test_loader:\n",
    "            data, target = data.to(device), target.to(device)\n",
    "            output = model(data)\n",
    "            test_loss += F.nll_loss(output, target, reduction='sum').item()  # sum up batch loss\n",
    "            pred = output.argmax(dim=1, keepdim=True)  # get the index of the max log-probability\n",
    "            correct += pred.eq(target.view_as(pred)).sum().item()\n",
    "\n",
    "    test_loss /= len(test_loader.dataset)\n",
    "    \n",
    "    if( l1_check == True ):\n",
    "            regloss = L1_Loss_calc(model, 0.0005)\n",
    "            regloss /= len(data) # by batch size\n",
    "            test_loss += regloss\n",
    "\n",
    "    print('\\nTest set: Average loss: {:.4f}, Accuracy: {}/{} ({:.2f}%)\\n'.format(test_loss, correct, len(test_loader.dataset),100 * correct / len(test_loader.dataset)))\n",
    "    acc = 100 * correct /len(test_loader.dataset)\n",
    "    acc = np.round(acc,2)\n",
    "    \n",
    "    return acc, test_loss\n",
    "    "
   ]
  },
  {
   "cell_type": "markdown",
   "metadata": {},
   "source": [
    "### Temp Store"
   ]
  },
  {
   "cell_type": "markdown",
   "metadata": {},
   "source": [
    "### Lets add L2 "
   ]
  },
  {
   "cell_type": "code",
   "execution_count": 104,
   "metadata": {},
   "outputs": [
    {
     "data": {
      "text/plain": [
       "469"
      ]
     },
     "execution_count": 104,
     "metadata": {},
     "output_type": "execute_result"
    }
   ],
   "source": [
    "len(train_loader)"
   ]
  },
  {
   "cell_type": "code",
   "execution_count": 105,
   "metadata": {},
   "outputs": [],
   "source": [
    "def model_building(typ, model, device,train_loader, test_loader,l1_check = False, l2_val = 0, EPOCHS = 3,learning_rate = 0.01):\n",
    "    \n",
    "    train_losses = []\n",
    "    train_acc = []\n",
    "    test_losses = []\n",
    "    test_acc = []\n",
    "    \n",
    "    optimizer = optim.SGD(model.parameters(), lr=0.01, momentum=0.9)\n",
    "    scheduler = torch.optim.lr_scheduler.OneCycleLR(optimizer, max_lr=0.1, steps_per_epoch=len(train_loader), epochs=EPOCHS)\n",
    "    \n",
    "    print ('Model with ', typ)\n",
    "    for epoch in range(1,EPOCHS):\n",
    "        print(\"EPOCH:\", epoch)\n",
    "        acc,loss =  train(model, device, train_loader, optimizer, epoch,scheduler,l1_check= True)\n",
    "        acc\n",
    "        train_acc.append(acc)\n",
    "        train_losses.append(loss)\n",
    "        \n",
    "        acc,loss =  test(model, device, test_loader,l1_check= True)\n",
    "        test_acc.append(acc)\n",
    "        test_losses.append(loss)\n",
    "        \n",
    "    return train_acc,train_losses,test_acc,test_losses"
   ]
  },
  {
   "cell_type": "markdown",
   "metadata": {},
   "source": [
    "## Missclassifications\n"
   ]
  },
  {
   "cell_type": "code",
   "execution_count": 106,
   "metadata": {},
   "outputs": [],
   "source": [
    "def miss_classification(typ, model, device, testloader, num_of_images = 25, filename='missclass'):\n",
    "    model.eval()\n",
    "    misclassified_cnt = 0\n",
    "    fig = plt.figure(figsize=(12,12))\n",
    "    print ('Missclassification on ', typ)\n",
    "    for data, target in testloader:\n",
    "        data, target = data.to(device), target.to(device)\n",
    "        output = model(data)\n",
    "        pred = output.argmax(dim=1, keepdim=True)\n",
    "        pred_marker = pred.eq(target.view_as(pred))   \n",
    "        wrong_idx = (pred_marker == False).nonzero()\n",
    "        for idx in wrong_idx:\n",
    "            index = idx[0].item()\n",
    "            title = \"Actul:{}, Pred:{}\".format(target[index].item(), pred[index][0].item())\n",
    "            ax = fig.add_subplot(5, 5, misclassified_cnt+1, xticks=[], yticks=[]) \n",
    "            ax.set_title(title)\n",
    "            plt.imshow(data[index].cpu().numpy().squeeze(), cmap='gray_r')\n",
    "            misclassified_cnt += 1\n",
    "            if(misclassified_cnt==num_of_images):\n",
    "                break\n",
    "        if(misclassified_cnt==num_of_images):\n",
    "            break\n",
    "    \n",
    "    fig.savefig(typ + '_missclassified_images'+ '.jpg') \n",
    "    return"
   ]
  },
  {
   "cell_type": "code",
   "execution_count": 107,
   "metadata": {},
   "outputs": [],
   "source": [
    "def plot_acc_loss(typ, train_acc,train_losses,test_acc,test_losses):\n",
    "    fig, axs = plt.subplots(1,2,figsize = (20,5))\n",
    "    print ('Accuracy model on  ', typ)\n",
    "    plt.autoscale()\n",
    "    axs[0].plot(train_acc,color = 'red')\n",
    "    axs[0].plot(test_acc,color = 'green')\n",
    "    title = 'Training/testing accuracy'\n",
    "    axs[0].set_title(title)\n",
    "    axs[0].set_ylabel('Accuracy')\n",
    "    axs[0].set_xlabel('Epoch')\n",
    "    axs[0].legend(['train acc','test acc'], loc='best')\n",
    "#     fig.set_figheight(10)\n",
    "#     fig.set_figwidth(20)\n",
    "       \n",
    "    axs[1].plot(train_losses,color = 'red')\n",
    "    axs[1].plot(test_losses,color = 'green')\n",
    "    title = 'Training/Testing Loss'\n",
    "    axs[1].set_title(title)\n",
    "    axs[1].set_ylabel('Loss')\n",
    "    axs[1].set_xlabel('Epoch')\n",
    "    axs[1].legend(['train loss','test loss'], loc='best')\n",
    "    plt.title(typ + 'model Accuracy Vs Loss')\n",
    "#     fig.set_figheight(10)\n",
    "#     fig.set_figwidth(20)\n",
    "\n",
    "    plt.show()"
   ]
  },
  {
   "cell_type": "raw",
   "metadata": {},
   "source": [
    "['L1+BN','L2+BN','L1 & L2 + BN','GBN','L1 & L2 + GBN']"
   ]
  },
  {
   "cell_type": "code",
   "execution_count": 108,
   "metadata": {},
   "outputs": [],
   "source": [
    "def plot_all(train_acc1=[0,0] ,train_losses1=[0,0] ,test_acc1 =[0,0],test_losses1=[0,0],train_acc2=[0,0] ,train_losses2=[0,0] ,test_acc2=[0,0] ,test_losses2=[0,0],train_acc3=[0,0] ,train_losses3=[0,0] ,test_acc3 =[0,0],test_losses3=[0,0],train_acc4=[0,0] ,train_losses4 =[0,0],test_acc4=[0,0] ,test_losses4=[0,0],train_acc5 =[0,0],train_losses5 =[0,0],test_acc5=[0,0] ,test_losses5=[0,0]):\n",
    "    fig,ax = plt.subplots(1,2,figsize=(30,7))\n",
    "    \n",
    "    # ploting the Accuracy \n",
    "    \n",
    "    ax[0].plot(train_acc1)\n",
    "    ax[0].plot(train_acc2)\n",
    "    ax[0].plot(train_acc3)\n",
    "    ax[0].plot(train_acc4)\n",
    "    ax[0].plot(train_acc5)\n",
    "    ax[0].set_title('Model Accuracy')\n",
    "    ax[0].set_ylabel('Accuracy')\n",
    "    ax[0].set_xlabel('Epochs')\n",
    "    ax[0].legend(['L1+BN_acc','L2+BN_acc','L1 & L2 + BN_acc','GBN_acc','L1 & L2 + GBN_acc'], loc='best')\n",
    "    #Ploting the losses \n",
    "    \n",
    "    ax[1].plot(train_losses1)\n",
    "    ax[1].plot(train_losses2)\n",
    "    ax[1].plot(train_losses3)\n",
    "    ax[1].plot(train_losses4)\n",
    "    ax[1].plot(train_losses5)\n",
    "    ax[1].set_title('Model Loss')\n",
    "    ax[1].set_ylabel('Loss')\n",
    "    ax[1].set_xlabel('Epochs')\n",
    "    ax[1].legend(['L1+BN_loss','L2+BN _loss','L1 & L2 + BN_loss','GBN_loss','L1 & L2 + GBN_loss'], loc='best')\n",
    "    \n",
    "    plt.show()\n",
    "    fig.savefig('Comparision.')"
   ]
  },
  {
   "cell_type": "code",
   "execution_count": 111,
   "metadata": {},
   "outputs": [],
   "source": [
    "def modelcalling(models,EPOCHS,learning_rate ):\n",
    "    print ('The Number of Epochs are :', EPOCHS)\n",
    "    for typ in models:\n",
    "        if typ == 'L1+BN':\n",
    "            \n",
    "            l1_check = True\n",
    "            l2_val = 0\n",
    "            ghost = False\n",
    "            \n",
    "            model =  Net(ghost).to(device)\n",
    "            train_acc1 ,train_losses1 ,test_acc1 ,test_losses1 = model_building(typ, model, device,train_loader, test_loader,l1_check ,l2_val,EPOCHS,learning_rate)\n",
    "            try:\n",
    "                test_losses1 = [i.item() for i in test_losses1 ]\n",
    "            except:\n",
    "                pass\n",
    "            plot_acc_loss(typ, train_acc1 ,train_losses1 ,test_acc1 ,test_losses1)\n",
    "            miss_classification(typ, model, device, testloader = test_loader, num_of_images = 25, filename=typ)\n",
    "#             Image(filename= typ + '_missclassified_images'+ '.png' )\n",
    "            \n",
    "#             modelparams = {'train_acc':train_acc1,'test_acc':test_acc1,'train_losses':train_losses1,'test_losses':test_losses1}\n",
    "#             file = pd.DataFrame(modelparams)\n",
    "#             file.to_csv(typ + '_missclassified_images'+ '.png')\n",
    "\n",
    "\n",
    "        elif typ == 'L2+BN':\n",
    "            \n",
    "            l1_check = False\n",
    "            l2_val = 0.03\n",
    "            ghost = False\n",
    "            \n",
    "            model =  Net(ghost).to(device)\n",
    "            train_acc2 ,train_losses2 ,test_acc2 ,test_losses2 = model_building(typ, model, device,train_loader, test_loader,l1_check,l2_val,EPOCHS,learning_rate)\n",
    "            try:\n",
    "                test_losses2 = [i.item() for i in test_losses2 ]\n",
    "            except:\n",
    "                pass\n",
    "            \n",
    "            plot_acc_loss(typ, train_acc2 ,train_losses2 ,test_acc2 ,test_losses2)\n",
    "            miss_classification(typ, model, device, testloader = test_loader, num_of_images = 25, filename=typ)\n",
    "#             Image(filename= typ + '_missclassified_images'+ '.png' )\n",
    "            \n",
    "#             modelparams = {'train_acc':train_acc2,'test_acc':test_acc2,'train_losses':train_losses2,'test_losses':test_losses2}\n",
    "#             file = pd.DataFrame(modelparams)\n",
    "#             file.to_csv(typ + 'param'+'.csv')\n",
    "\n",
    "            \n",
    "        elif typ == 'L1 & L2 + BN':\n",
    "            \n",
    "            l1_check = True\n",
    "            l2_val = 0.03\n",
    "            ghost = False\n",
    "            \n",
    "            model =  Net(ghost).to(device)\n",
    "            train_acc3 ,train_losses3 ,test_acc3 ,test_losses3 = model_building(typ, model, device,train_loader, test_loader,l1_check,l2_val,EPOCHS ,learning_rate)\n",
    "            try:\n",
    "                test_losses3 = [i.item() for i in test_losses3 ]\n",
    "            except:\n",
    "                pass\n",
    "            plot_acc_loss(typ, train_acc3 ,train_losses3 ,test_acc3 ,test_losses3)\n",
    "            miss_classification(typ, model, device, testloader = test_loader, num_of_images = 25, filename=typ)\n",
    "#             Image(filename= typ + '_missclassified_images'+ '.png' )\n",
    "            \n",
    "#             modelparams = {'train_acc':train_acc3,'test_acc':test_acc3,'train_losses':train_losses3,'test_losses':test_losses3}\n",
    "#             file = pd.DataFrame(modelparams)\n",
    "#             file.to_csv(typ + 'param'+'.csv')\n",
    "\n",
    "            \n",
    "        elif typ == 'GBN':\n",
    "            \n",
    "            l1_check = False\n",
    "            l2_val = 0\n",
    "            ghost = True\n",
    "            \n",
    "            model =  Net(ghost).to(device)\n",
    "            train_acc4 ,train_losses4 ,test_acc4 ,test_losses4 = model_building(typ, model, device,train_loader, test_loader,l1_check,l2_val,EPOCHS,learning_rate)\n",
    "            try:\n",
    "                test_losses4 = [i.item() for i in test_losses4 ]\n",
    "            except:\n",
    "                pass\n",
    "            plot_acc_loss(typ, train_acc4 ,train_losses4 ,test_acc4 ,test_losses4)\n",
    "            miss_classification(typ, model, device, testloader = test_loader, num_of_images = 25, filename=typ)\n",
    "#             Image(filename= typ + '_missclassified_images'+ '.png' )\n",
    "            \n",
    "#             modelparams = {'train_acc':train_acc4,'test_acc':test_acc4,'train_losses':train_losses4,'test_losses':test_losses4}\n",
    "#             file = pd.DataFrame(modelparams)\n",
    "#             file.to_csv(typ + 'param'+'.csv')\n",
    "\n",
    "            \n",
    "        elif typ == 'L1 & L2 + GBN':\n",
    "            \n",
    "            l1_check = True\n",
    "            l2_val = 0.03\n",
    "            ghost = True\n",
    "            \n",
    "            model =  Net(ghost).to(device)\n",
    "            train_acc5 ,train_losses5 ,test_acc5 ,test_losses5 = model_building(typ, model, device,train_loader, test_loader,l1_check , l2_val , EPOCHS ,learning_rate)\n",
    "            try:\n",
    "                test_losses5 = [i.item() for i in test_losses5 ]\n",
    "            except:\n",
    "                pass\n",
    "            plot_acc_loss(typ, train_acc5 ,train_losses5 ,test_acc5 ,test_losses5)\n",
    "            miss_classification(typ, model, device, testloader = test_loader, num_of_images = 25, filename=typ)\n",
    "#             Image(filename= typ + '_missclassified_images'+ '.png' )\n",
    "            \n",
    "#             modelparams = {'train_acc':train_acc5,'test_acc':test_acc5,'train_losses':train_losses5,'test_losses':test_losses5}\n",
    "#             file = pd.DataFrame(modelparams)\n",
    "#             file.to_csv(typ + 'param'+'.csv')\n",
    "\n",
    "        \n",
    "    plot_all(train_acc1 ,train_losses1 ,test_acc1 ,test_losses1,train_acc2 ,train_losses2 ,test_acc2 ,test_losses2,train_acc3 ,train_losses3 ,test_acc3 ,test_losses3,train_acc4 ,train_losses4 ,test_acc4 ,test_losses4,train_acc5 ,train_losses5 ,test_acc5 ,test_losses5)\n",
    "    \n",
    "    for i in models:\n",
    "        name = i + '_missclassified_images.jpg'\n",
    "        print (name)\n",
    "        image = io.imread(name)\n",
    "        plt.subplots(figsize = (20,20))\n",
    "        plt.imshow(image)\n",
    "        plt.title(i + '_missclassified_images') "
   ]
  },
  {
   "cell_type": "code",
   "execution_count": null,
   "metadata": {},
   "outputs": [],
   "source": []
  },
  {
   "cell_type": "raw",
   "metadata": {},
   "source": [
    "models = ['GBN']"
   ]
  },
  {
   "cell_type": "code",
   "execution_count": null,
   "metadata": {},
   "outputs": [
    {
     "name": "stdout",
     "output_type": "stream",
     "text": [
      "The Number of Epochs are : 25\n",
      "GHOST BHAI is  False\n",
      "Model with  L1+BN\n",
      "EPOCH: 1\n"
     ]
    },
    {
     "name": "stderr",
     "output_type": "stream",
     "text": [
      "  0%|                                                   | 0/469 [00:00<?, ?it/s]/home/jd/miniconda3/envs/eva/lib/python3.10/site-packages/torch/nn/_reduction.py:42: UserWarning: size_average and reduce args will be deprecated, please use reduction='sum' instead.\n",
      "  warnings.warn(warning.format(ret))\n",
      "Loss=0.770214 Batch_id=468 Accuracy=79.77: 100%|█| 469/469 [00:03<00:00, 122.45i\n"
     ]
    },
    {
     "name": "stdout",
     "output_type": "stream",
     "text": [
      "\n",
      "Test set: Average loss: 0.1764, Accuracy: 9569/10000 (95.69%)\n",
      "\n",
      "EPOCH: 2\n"
     ]
    },
    {
     "name": "stderr",
     "output_type": "stream",
     "text": [
      "Loss=0.136311 Batch_id=468 Accuracy=96.39: 100%|█| 469/469 [00:03<00:00, 125.55i\n"
     ]
    },
    {
     "name": "stdout",
     "output_type": "stream",
     "text": [
      "\n",
      "Test set: Average loss: 0.0772, Accuracy: 9843/10000 (98.43%)\n",
      "\n",
      "EPOCH: 3\n"
     ]
    },
    {
     "name": "stderr",
     "output_type": "stream",
     "text": [
      "Loss=0.096434 Batch_id=468 Accuracy=97.35: 100%|█| 469/469 [00:03<00:00, 124.76i\n"
     ]
    },
    {
     "name": "stdout",
     "output_type": "stream",
     "text": [
      "\n",
      "Test set: Average loss: 0.1057, Accuracy: 9730/10000 (97.30%)\n",
      "\n",
      "EPOCH: 4\n"
     ]
    },
    {
     "name": "stderr",
     "output_type": "stream",
     "text": [
      "Loss=0.079987 Batch_id=468 Accuracy=97.79: 100%|█| 469/469 [00:03<00:00, 126.07i\n"
     ]
    },
    {
     "name": "stdout",
     "output_type": "stream",
     "text": [
      "\n",
      "Test set: Average loss: 0.0656, Accuracy: 9867/10000 (98.67%)\n",
      "\n",
      "EPOCH: 5\n"
     ]
    },
    {
     "name": "stderr",
     "output_type": "stream",
     "text": [
      "Loss=0.072069 Batch_id=468 Accuracy=97.90: 100%|█| 469/469 [00:03<00:00, 121.17i\n"
     ]
    },
    {
     "name": "stdout",
     "output_type": "stream",
     "text": [
      "\n",
      "Test set: Average loss: 0.0581, Accuracy: 9882/10000 (98.82%)\n",
      "\n",
      "EPOCH: 6\n"
     ]
    },
    {
     "name": "stderr",
     "output_type": "stream",
     "text": [
      "Loss=0.066528 Batch_id=468 Accuracy=98.06: 100%|█| 469/469 [00:03<00:00, 120.83i\n"
     ]
    },
    {
     "name": "stdout",
     "output_type": "stream",
     "text": [
      "\n",
      "Test set: Average loss: 0.0602, Accuracy: 9890/10000 (98.90%)\n",
      "\n",
      "EPOCH: 7\n"
     ]
    },
    {
     "name": "stderr",
     "output_type": "stream",
     "text": [
      "Loss=0.061861 Batch_id=468 Accuracy=98.19: 100%|█| 469/469 [00:03<00:00, 123.66i\n"
     ]
    },
    {
     "name": "stdout",
     "output_type": "stream",
     "text": [
      "\n",
      "Test set: Average loss: 0.0496, Accuracy: 9916/10000 (99.16%)\n",
      "\n",
      "EPOCH: 8\n"
     ]
    },
    {
     "name": "stderr",
     "output_type": "stream",
     "text": [
      "Loss=0.057753 Batch_id=468 Accuracy=98.31: 100%|█| 469/469 [00:03<00:00, 123.60i\n"
     ]
    },
    {
     "name": "stdout",
     "output_type": "stream",
     "text": [
      "\n",
      "Test set: Average loss: 0.0481, Accuracy: 9915/10000 (99.15%)\n",
      "\n",
      "EPOCH: 9\n"
     ]
    },
    {
     "name": "stderr",
     "output_type": "stream",
     "text": [
      "Loss=0.056851 Batch_id=468 Accuracy=98.32: 100%|█| 469/469 [00:03<00:00, 125.42i\n"
     ]
    },
    {
     "name": "stdout",
     "output_type": "stream",
     "text": [
      "\n",
      "Test set: Average loss: 0.0474, Accuracy: 9918/10000 (99.18%)\n",
      "\n",
      "EPOCH: 10\n"
     ]
    },
    {
     "name": "stderr",
     "output_type": "stream",
     "text": [
      "Loss=0.052919 Batch_id=468 Accuracy=98.47: 100%|█| 469/469 [00:03<00:00, 122.36i\n"
     ]
    },
    {
     "name": "stdout",
     "output_type": "stream",
     "text": [
      "\n",
      "Test set: Average loss: 0.0511, Accuracy: 9902/10000 (99.02%)\n",
      "\n",
      "EPOCH: 11\n"
     ]
    },
    {
     "name": "stderr",
     "output_type": "stream",
     "text": [
      "Loss=0.054125 Batch_id=468 Accuracy=98.44: 100%|█| 469/469 [00:03<00:00, 120.20i\n"
     ]
    },
    {
     "name": "stdout",
     "output_type": "stream",
     "text": [
      "\n",
      "Test set: Average loss: 0.0506, Accuracy: 9912/10000 (99.12%)\n",
      "\n",
      "EPOCH: 12\n"
     ]
    },
    {
     "name": "stderr",
     "output_type": "stream",
     "text": [
      "Loss=0.049591 Batch_id=468 Accuracy=98.56: 100%|█| 469/469 [00:03<00:00, 122.00i\n"
     ]
    },
    {
     "name": "stdout",
     "output_type": "stream",
     "text": [
      "\n",
      "Test set: Average loss: 0.0447, Accuracy: 9923/10000 (99.23%)\n",
      "\n",
      "EPOCH: 13\n"
     ]
    },
    {
     "name": "stderr",
     "output_type": "stream",
     "text": [
      "Loss=0.048678 Batch_id=468 Accuracy=98.53: 100%|█| 469/469 [00:03<00:00, 122.96i\n"
     ]
    },
    {
     "name": "stdout",
     "output_type": "stream",
     "text": [
      "\n",
      "Test set: Average loss: 0.0475, Accuracy: 9916/10000 (99.16%)\n",
      "\n",
      "EPOCH: 14\n"
     ]
    },
    {
     "name": "stderr",
     "output_type": "stream",
     "text": [
      "Loss=0.049713 Batch_id=468 Accuracy=98.57: 100%|█| 469/469 [00:03<00:00, 123.90i\n"
     ]
    },
    {
     "name": "stdout",
     "output_type": "stream",
     "text": [
      "\n",
      "Test set: Average loss: 0.0459, Accuracy: 9930/10000 (99.30%)\n",
      "\n",
      "EPOCH: 15\n"
     ]
    },
    {
     "name": "stderr",
     "output_type": "stream",
     "text": [
      "Loss=0.048166 Batch_id=468 Accuracy=98.59: 100%|█| 469/469 [00:03<00:00, 121.46i\n"
     ]
    },
    {
     "name": "stdout",
     "output_type": "stream",
     "text": [
      "\n",
      "Test set: Average loss: 0.0471, Accuracy: 9921/10000 (99.21%)\n",
      "\n",
      "EPOCH: 16\n"
     ]
    },
    {
     "name": "stderr",
     "output_type": "stream",
     "text": [
      "Loss=0.044297 Batch_id=468 Accuracy=98.74: 100%|█| 469/469 [00:03<00:00, 117.72i\n"
     ]
    },
    {
     "name": "stdout",
     "output_type": "stream",
     "text": [
      "\n",
      "Test set: Average loss: 0.0446, Accuracy: 9931/10000 (99.31%)\n",
      "\n",
      "EPOCH: 17\n"
     ]
    },
    {
     "name": "stderr",
     "output_type": "stream",
     "text": [
      "Loss=0.045311 Batch_id=468 Accuracy=98.67: 100%|█| 469/469 [00:03<00:00, 123.86i\n"
     ]
    },
    {
     "name": "stdout",
     "output_type": "stream",
     "text": [
      "\n",
      "Test set: Average loss: 0.0452, Accuracy: 9933/10000 (99.33%)\n",
      "\n",
      "EPOCH: 18\n"
     ]
    },
    {
     "name": "stderr",
     "output_type": "stream",
     "text": [
      "Loss=0.043830 Batch_id=468 Accuracy=98.72: 100%|█| 469/469 [00:03<00:00, 124.97i\n"
     ]
    },
    {
     "name": "stdout",
     "output_type": "stream",
     "text": [
      "\n",
      "Test set: Average loss: 0.0430, Accuracy: 9928/10000 (99.28%)\n",
      "\n",
      "EPOCH: 19\n"
     ]
    },
    {
     "name": "stderr",
     "output_type": "stream",
     "text": [
      "Loss=0.043576 Batch_id=468 Accuracy=98.71: 100%|█| 469/469 [00:03<00:00, 122.51i\n"
     ]
    },
    {
     "name": "stdout",
     "output_type": "stream",
     "text": [
      "\n",
      "Test set: Average loss: 0.0450, Accuracy: 9932/10000 (99.32%)\n",
      "\n",
      "EPOCH: 20\n"
     ]
    },
    {
     "name": "stderr",
     "output_type": "stream",
     "text": [
      "Loss=0.043177 Batch_id=468 Accuracy=98.70: 100%|█| 469/469 [00:03<00:00, 117.76i\n"
     ]
    },
    {
     "name": "stdout",
     "output_type": "stream",
     "text": [
      "\n",
      "Test set: Average loss: 0.0430, Accuracy: 9937/10000 (99.37%)\n",
      "\n",
      "EPOCH: 21\n"
     ]
    },
    {
     "name": "stderr",
     "output_type": "stream",
     "text": [
      "Loss=0.041771 Batch_id=468 Accuracy=98.77: 100%|█| 469/469 [00:04<00:00, 113.88i\n"
     ]
    },
    {
     "name": "stdout",
     "output_type": "stream",
     "text": [
      "\n",
      "Test set: Average loss: 0.0438, Accuracy: 9939/10000 (99.39%)\n",
      "\n",
      "EPOCH: 22\n"
     ]
    },
    {
     "name": "stderr",
     "output_type": "stream",
     "text": [
      "Loss=0.042571 Batch_id=468 Accuracy=98.78: 100%|█| 469/469 [00:03<00:00, 119.70i\n"
     ]
    },
    {
     "name": "stdout",
     "output_type": "stream",
     "text": [
      "\n",
      "Test set: Average loss: 0.0423, Accuracy: 9941/10000 (99.41%)\n",
      "\n",
      "EPOCH: 23\n"
     ]
    },
    {
     "name": "stderr",
     "output_type": "stream",
     "text": [
      "Loss=0.041009 Batch_id=468 Accuracy=98.78: 100%|█| 469/469 [00:04<00:00, 112.63i\n"
     ]
    },
    {
     "name": "stdout",
     "output_type": "stream",
     "text": [
      "\n",
      "Test set: Average loss: 0.0447, Accuracy: 9936/10000 (99.36%)\n",
      "\n",
      "EPOCH: 24\n"
     ]
    },
    {
     "name": "stderr",
     "output_type": "stream",
     "text": [
      "Loss=0.039180 Batch_id=468 Accuracy=98.86: 100%|█| 469/469 [00:03<00:00, 117.89i\n"
     ]
    },
    {
     "name": "stdout",
     "output_type": "stream",
     "text": [
      "\n",
      "Test set: Average loss: 0.0428, Accuracy: 9939/10000 (99.39%)\n",
      "\n",
      "Accuracy model on   L1+BN\n"
     ]
    },
    {
     "data": {
      "image/png": "[encoded data removed]",
      "text/plain": [
       "<Figure size 2000x500 with 2 Axes>"
      ]
     },
     "metadata": {},
     "output_type": "display_data"
    },
    {
     "name": "stdout",
     "output_type": "stream",
     "text": [
      "Missclassification on  L1+BN\n",
      "GHOST BHAI is  False\n",
      "Model with  L2+BN\n",
      "EPOCH: 1\n"
     ]
    },
    {
     "name": "stderr",
     "output_type": "stream",
     "text": [
      "  0%|                                                   | 0/469 [00:00<?, ?it/s]/home/jd/miniconda3/envs/eva/lib/python3.10/site-packages/torch/nn/_reduction.py:42: UserWarning: size_average and reduce args will be deprecated, please use reduction='sum' instead.\n",
      "  warnings.warn(warning.format(ret))\n",
      "Loss=0.773897 Batch_id=468 Accuracy=80.28: 100%|█| 469/469 [00:04<00:00, 112.36i\n"
     ]
    },
    {
     "name": "stdout",
     "output_type": "stream",
     "text": [
      "\n",
      "Test set: Average loss: 0.1444, Accuracy: 9672/10000 (96.72%)\n",
      "\n",
      "EPOCH: 2\n"
     ]
    },
    {
     "name": "stderr",
     "output_type": "stream",
     "text": [
      "Loss=0.140270 Batch_id=468 Accuracy=96.25: 100%|█| 469/469 [00:04<00:00, 110.53i\n"
     ]
    },
    {
     "name": "stdout",
     "output_type": "stream",
     "text": [
      "\n",
      "Test set: Average loss: 0.0758, Accuracy: 9848/10000 (98.48%)\n",
      "\n",
      "EPOCH: 3\n"
     ]
    },
    {
     "name": "stderr",
     "output_type": "stream",
     "text": [
      "Loss=0.098558 Batch_id=468 Accuracy=97.28: 100%|█| 469/469 [00:03<00:00, 123.10i\n"
     ]
    },
    {
     "name": "stdout",
     "output_type": "stream",
     "text": [
      "\n",
      "Test set: Average loss: 0.0620, Accuracy: 9875/10000 (98.75%)\n",
      "\n",
      "EPOCH: 4\n"
     ]
    },
    {
     "name": "stderr",
     "output_type": "stream",
     "text": [
      "Loss=0.081328 Batch_id=468 Accuracy=97.72: 100%|█| 469/469 [00:03<00:00, 122.91i\n"
     ]
    },
    {
     "name": "stdout",
     "output_type": "stream",
     "text": [
      "\n",
      "Test set: Average loss: 0.0611, Accuracy: 9874/10000 (98.74%)\n",
      "\n",
      "EPOCH: 5\n"
     ]
    },
    {
     "name": "stderr",
     "output_type": "stream",
     "text": [
      "Loss=0.073144 Batch_id=468 Accuracy=97.88: 100%|█| 469/469 [00:03<00:00, 119.98i\n"
     ]
    },
    {
     "name": "stdout",
     "output_type": "stream",
     "text": [
      "\n",
      "Test set: Average loss: 0.0559, Accuracy: 9891/10000 (98.91%)\n",
      "\n",
      "EPOCH: 6\n"
     ]
    },
    {
     "name": "stderr",
     "output_type": "stream",
     "text": [
      "Loss=0.065338 Batch_id=468 Accuracy=98.01: 100%|█| 469/469 [00:03<00:00, 117.28i\n"
     ]
    },
    {
     "name": "stdout",
     "output_type": "stream",
     "text": [
      "\n",
      "Test set: Average loss: 0.0564, Accuracy: 9886/10000 (98.86%)\n",
      "\n",
      "EPOCH: 7\n"
     ]
    },
    {
     "name": "stderr",
     "output_type": "stream",
     "text": [
      "Loss=0.061217 Batch_id=468 Accuracy=98.19: 100%|█| 469/469 [00:04<00:00, 116.85i\n"
     ]
    },
    {
     "name": "stdout",
     "output_type": "stream",
     "text": [
      "\n",
      "Test set: Average loss: 0.0528, Accuracy: 9888/10000 (98.88%)\n",
      "\n",
      "EPOCH: 8\n"
     ]
    },
    {
     "name": "stderr",
     "output_type": "stream",
     "text": [
      "Loss=0.058713 Batch_id=468 Accuracy=98.27: 100%|█| 469/469 [00:04<00:00, 114.66i\n"
     ]
    },
    {
     "name": "stdout",
     "output_type": "stream",
     "text": [
      "\n",
      "Test set: Average loss: 0.0504, Accuracy: 9906/10000 (99.06%)\n",
      "\n",
      "EPOCH: 9\n"
     ]
    },
    {
     "name": "stderr",
     "output_type": "stream",
     "text": [
      "Loss=0.055039 Batch_id=468 Accuracy=98.41: 100%|█| 469/469 [00:04<00:00, 113.36i\n"
     ]
    },
    {
     "name": "stdout",
     "output_type": "stream",
     "text": [
      "\n",
      "Test set: Average loss: 0.0513, Accuracy: 9904/10000 (99.04%)\n",
      "\n",
      "EPOCH: 10\n"
     ]
    },
    {
     "name": "stderr",
     "output_type": "stream",
     "text": [
      "Loss=0.054795 Batch_id=468 Accuracy=98.44: 100%|█| 469/469 [00:04<00:00, 110.34i\n"
     ]
    },
    {
     "name": "stdout",
     "output_type": "stream",
     "text": [
      "\n",
      "Test set: Average loss: 0.0492, Accuracy: 9909/10000 (99.09%)\n",
      "\n",
      "EPOCH: 11\n"
     ]
    },
    {
     "name": "stderr",
     "output_type": "stream",
     "text": [
      "Loss=0.051760 Batch_id=468 Accuracy=98.48: 100%|█| 469/469 [00:04<00:00, 111.14i\n"
     ]
    },
    {
     "name": "stdout",
     "output_type": "stream",
     "text": [
      "\n",
      "Test set: Average loss: 0.0472, Accuracy: 9913/10000 (99.13%)\n",
      "\n",
      "EPOCH: 12\n"
     ]
    },
    {
     "name": "stderr",
     "output_type": "stream",
     "text": [
      "Loss=0.048900 Batch_id=468 Accuracy=98.59: 100%|█| 469/469 [00:04<00:00, 110.40i\n"
     ]
    },
    {
     "name": "stdout",
     "output_type": "stream",
     "text": [
      "\n",
      "Test set: Average loss: 0.0467, Accuracy: 9924/10000 (99.24%)\n",
      "\n",
      "EPOCH: 13\n"
     ]
    },
    {
     "name": "stderr",
     "output_type": "stream",
     "text": [
      "Loss=0.050124 Batch_id=468 Accuracy=98.53: 100%|█| 469/469 [00:04<00:00, 113.29i\n"
     ]
    },
    {
     "name": "stdout",
     "output_type": "stream",
     "text": [
      "\n",
      "Test set: Average loss: 0.0463, Accuracy: 9915/10000 (99.15%)\n",
      "\n",
      "EPOCH: 14\n"
     ]
    },
    {
     "name": "stderr",
     "output_type": "stream",
     "text": [
      "Loss=0.048202 Batch_id=468 Accuracy=98.56: 100%|█| 469/469 [00:04<00:00, 110.76i\n"
     ]
    },
    {
     "name": "stdout",
     "output_type": "stream",
     "text": [
      "\n",
      "Test set: Average loss: 0.0467, Accuracy: 9927/10000 (99.27%)\n",
      "\n",
      "EPOCH: 15\n"
     ]
    },
    {
     "name": "stderr",
     "output_type": "stream",
     "text": [
      "Loss=0.047104 Batch_id=468 Accuracy=98.61: 100%|█| 469/469 [00:04<00:00, 114.43i\n"
     ]
    },
    {
     "name": "stdout",
     "output_type": "stream",
     "text": [
      "\n",
      "Test set: Average loss: 0.0474, Accuracy: 9918/10000 (99.18%)\n",
      "\n",
      "EPOCH: 16\n"
     ]
    },
    {
     "name": "stderr",
     "output_type": "stream",
     "text": [
      "Loss=0.045517 Batch_id=468 Accuracy=98.68: 100%|█| 469/469 [00:04<00:00, 108.17i\n"
     ]
    },
    {
     "name": "stdout",
     "output_type": "stream",
     "text": [
      "\n",
      "Test set: Average loss: 0.0470, Accuracy: 9909/10000 (99.09%)\n",
      "\n",
      "EPOCH: 17\n"
     ]
    },
    {
     "name": "stderr",
     "output_type": "stream",
     "text": [
      "Loss=0.044021 Batch_id=468 Accuracy=98.75: 100%|█| 469/469 [00:04<00:00, 109.80i\n"
     ]
    },
    {
     "name": "stdout",
     "output_type": "stream",
     "text": [
      "\n",
      "Test set: Average loss: 0.0447, Accuracy: 9923/10000 (99.23%)\n",
      "\n",
      "EPOCH: 18\n"
     ]
    },
    {
     "name": "stderr",
     "output_type": "stream",
     "text": [
      "Loss=0.043594 Batch_id=468 Accuracy=98.75: 100%|█| 469/469 [00:04<00:00, 109.58i\n"
     ]
    },
    {
     "name": "stdout",
     "output_type": "stream",
     "text": [
      "\n",
      "Test set: Average loss: 0.0450, Accuracy: 9927/10000 (99.27%)\n",
      "\n",
      "EPOCH: 19\n"
     ]
    },
    {
     "name": "stderr",
     "output_type": "stream",
     "text": [
      "Loss=0.043056 Batch_id=468 Accuracy=98.72: 100%|█| 469/469 [00:04<00:00, 110.57i\n"
     ]
    },
    {
     "name": "stdout",
     "output_type": "stream",
     "text": [
      "\n",
      "Test set: Average loss: 0.0481, Accuracy: 9922/10000 (99.22%)\n",
      "\n",
      "EPOCH: 20\n"
     ]
    },
    {
     "name": "stderr",
     "output_type": "stream",
     "text": [
      "Loss=0.041944 Batch_id=468 Accuracy=98.77: 100%|█| 469/469 [00:04<00:00, 109.96i\n"
     ]
    },
    {
     "name": "stdout",
     "output_type": "stream",
     "text": [
      "\n",
      "Test set: Average loss: 0.0453, Accuracy: 9933/10000 (99.33%)\n",
      "\n",
      "EPOCH: 21\n"
     ]
    },
    {
     "name": "stderr",
     "output_type": "stream",
     "text": [
      "Loss=0.041317 Batch_id=468 Accuracy=98.80: 100%|█| 469/469 [00:04<00:00, 106.05i\n"
     ]
    },
    {
     "name": "stdout",
     "output_type": "stream",
     "text": [
      "\n",
      "Test set: Average loss: 0.0451, Accuracy: 9936/10000 (99.36%)\n",
      "\n",
      "EPOCH: 22\n"
     ]
    },
    {
     "name": "stderr",
     "output_type": "stream",
     "text": [
      "Loss=0.041874 Batch_id=468 Accuracy=98.78: 100%|█| 469/469 [00:04<00:00, 110.76i\n"
     ]
    },
    {
     "name": "stdout",
     "output_type": "stream",
     "text": [
      "\n",
      "Test set: Average loss: 0.0445, Accuracy: 9928/10000 (99.28%)\n",
      "\n",
      "EPOCH: 23\n"
     ]
    },
    {
     "name": "stderr",
     "output_type": "stream",
     "text": [
      "Loss=0.042172 Batch_id=468 Accuracy=98.75: 100%|█| 469/469 [00:04<00:00, 108.80i\n"
     ]
    },
    {
     "name": "stdout",
     "output_type": "stream",
     "text": [
      "\n",
      "Test set: Average loss: 0.0452, Accuracy: 9929/10000 (99.29%)\n",
      "\n",
      "EPOCH: 24\n"
     ]
    },
    {
     "name": "stderr",
     "output_type": "stream",
     "text": [
      "Loss=0.038948 Batch_id=468 Accuracy=98.87: 100%|█| 469/469 [00:04<00:00, 110.74i\n"
     ]
    },
    {
     "name": "stdout",
     "output_type": "stream",
     "text": [
      "\n",
      "Test set: Average loss: 0.0453, Accuracy: 9926/10000 (99.26%)\n",
      "\n",
      "Accuracy model on   L2+BN\n"
     ]
    },
    {
     "data": {
      "image/png": "[encoded data removed]",
      "text/plain": [
       "<Figure size 1200x1200 with 25 Axes>"
      ]
     },
     "metadata": {},
     "output_type": "display_data"
    },
    {
     "data": {
      "image/png": "[encoded data removed]",
      "text/plain": [
       "<Figure size 2000x500 with 2 Axes>"
      ]
     },
     "metadata": {},
     "output_type": "display_data"
    },
    {
     "name": "stdout",
     "output_type": "stream",
     "text": [
      "Missclassification on  L2+BN\n",
      "GHOST BHAI is  False\n",
      "Model with  L1 & L2 + BN\n",
      "EPOCH: 1\n"
     ]
    },
    {
     "name": "stderr",
     "output_type": "stream",
     "text": [
      "  0%|                                                   | 0/469 [00:00<?, ?it/s]/home/jd/miniconda3/envs/eva/lib/python3.10/site-packages/torch/nn/_reduction.py:42: UserWarning: size_average and reduce args will be deprecated, please use reduction='sum' instead.\n",
      "  warnings.warn(warning.format(ret))\n",
      "Loss=0.816566 Batch_id=468 Accuracy=78.07: 100%|█| 469/469 [00:04<00:00, 102.18i\n"
     ]
    },
    {
     "name": "stdout",
     "output_type": "stream",
     "text": [
      "\n",
      "Test set: Average loss: 0.1478, Accuracy: 9680/10000 (96.80%)\n",
      "\n",
      "EPOCH: 2\n"
     ]
    },
    {
     "name": "stderr",
     "output_type": "stream",
     "text": [
      "Loss=0.128831 Batch_id=468 Accuracy=96.71: 100%|█| 469/469 [00:04<00:00, 107.32i\n"
     ]
    },
    {
     "name": "stdout",
     "output_type": "stream",
     "text": [
      "\n",
      "Test set: Average loss: 0.0799, Accuracy: 9826/10000 (98.26%)\n",
      "\n",
      "EPOCH: 3\n"
     ]
    },
    {
     "name": "stderr",
     "output_type": "stream",
     "text": [
      "Loss=0.091226 Batch_id=468 Accuracy=97.51: 100%|█| 469/469 [00:04<00:00, 113.52i\n"
     ]
    },
    {
     "name": "stdout",
     "output_type": "stream",
     "text": [
      "\n",
      "Test set: Average loss: 0.0642, Accuracy: 9869/10000 (98.69%)\n",
      "\n",
      "EPOCH: 4\n"
     ]
    },
    {
     "name": "stderr",
     "output_type": "stream",
     "text": [
      "Loss=0.076963 Batch_id=468 Accuracy=97.84: 100%|█| 469/469 [00:04<00:00, 106.01i\n"
     ]
    },
    {
     "name": "stdout",
     "output_type": "stream",
     "text": [
      "\n",
      "Test set: Average loss: 0.0620, Accuracy: 9870/10000 (98.70%)\n",
      "\n",
      "EPOCH: 5\n"
     ]
    },
    {
     "name": "stderr",
     "output_type": "stream",
     "text": [
      "Loss=0.068899 Batch_id=468 Accuracy=98.04: 100%|█| 469/469 [00:04<00:00, 111.48i\n"
     ]
    },
    {
     "name": "stdout",
     "output_type": "stream",
     "text": [
      "\n",
      "Test set: Average loss: 0.0551, Accuracy: 9896/10000 (98.96%)\n",
      "\n",
      "EPOCH: 6\n"
     ]
    },
    {
     "name": "stderr",
     "output_type": "stream",
     "text": [
      "Loss=0.062609 Batch_id=468 Accuracy=98.20: 100%|█| 469/469 [00:04<00:00, 115.30i\n"
     ]
    },
    {
     "name": "stdout",
     "output_type": "stream",
     "text": [
      "\n",
      "Test set: Average loss: 0.0537, Accuracy: 9897/10000 (98.97%)\n",
      "\n",
      "EPOCH: 7\n"
     ]
    },
    {
     "name": "stderr",
     "output_type": "stream",
     "text": [
      "Loss=0.060850 Batch_id=468 Accuracy=98.25: 100%|█| 469/469 [00:03<00:00, 117.56i\n"
     ]
    },
    {
     "name": "stdout",
     "output_type": "stream",
     "text": [
      "\n",
      "Test set: Average loss: 0.0525, Accuracy: 9897/10000 (98.97%)\n",
      "\n",
      "EPOCH: 8\n"
     ]
    },
    {
     "name": "stderr",
     "output_type": "stream",
     "text": [
      "Loss=0.058452 Batch_id=468 Accuracy=98.26: 100%|█| 469/469 [00:04<00:00, 113.62i\n"
     ]
    },
    {
     "name": "stdout",
     "output_type": "stream",
     "text": [
      "\n",
      "Test set: Average loss: 0.0492, Accuracy: 9913/10000 (99.13%)\n",
      "\n",
      "EPOCH: 9\n"
     ]
    },
    {
     "name": "stderr",
     "output_type": "stream",
     "text": [
      "Loss=0.054495 Batch_id=468 Accuracy=98.38: 100%|█| 469/469 [00:04<00:00, 113.66i\n"
     ]
    },
    {
     "name": "stdout",
     "output_type": "stream",
     "text": [
      "\n",
      "Test set: Average loss: 0.0475, Accuracy: 9913/10000 (99.13%)\n",
      "\n",
      "EPOCH: 10\n"
     ]
    },
    {
     "name": "stderr",
     "output_type": "stream",
     "text": [
      "Loss=0.052935 Batch_id=468 Accuracy=98.49: 100%|█| 469/469 [00:04<00:00, 109.98i\n"
     ]
    },
    {
     "name": "stdout",
     "output_type": "stream",
     "text": [
      "\n",
      "Test set: Average loss: 0.0506, Accuracy: 9909/10000 (99.09%)\n",
      "\n",
      "EPOCH: 11\n"
     ]
    },
    {
     "name": "stderr",
     "output_type": "stream",
     "text": [
      "Loss=0.050904 Batch_id=468 Accuracy=98.53: 100%|█| 469/469 [00:04<00:00, 112.53i\n"
     ]
    },
    {
     "name": "stdout",
     "output_type": "stream",
     "text": [
      "\n",
      "Test set: Average loss: 0.0499, Accuracy: 9907/10000 (99.07%)\n",
      "\n",
      "EPOCH: 12\n"
     ]
    },
    {
     "name": "stderr",
     "output_type": "stream",
     "text": [
      "Loss=0.049573 Batch_id=468 Accuracy=98.61: 100%|█| 469/469 [00:04<00:00, 110.76i\n"
     ]
    },
    {
     "name": "stdout",
     "output_type": "stream",
     "text": [
      "\n",
      "Test set: Average loss: 0.0474, Accuracy: 9917/10000 (99.17%)\n",
      "\n",
      "EPOCH: 13\n"
     ]
    },
    {
     "name": "stderr",
     "output_type": "stream",
     "text": [
      "Loss=0.047734 Batch_id=468 Accuracy=98.60: 100%|█| 469/469 [00:04<00:00, 113.00i\n"
     ]
    },
    {
     "name": "stdout",
     "output_type": "stream",
     "text": [
      "\n",
      "Test set: Average loss: 0.0502, Accuracy: 9912/10000 (99.12%)\n",
      "\n",
      "EPOCH: 14\n"
     ]
    },
    {
     "name": "stderr",
     "output_type": "stream",
     "text": [
      "Loss=0.045714 Batch_id=468 Accuracy=98.67: 100%|█| 469/469 [00:04<00:00, 113.76i\n"
     ]
    },
    {
     "name": "stdout",
     "output_type": "stream",
     "text": [
      "\n",
      "Test set: Average loss: 0.0487, Accuracy: 9919/10000 (99.19%)\n",
      "\n",
      "EPOCH: 15\n"
     ]
    },
    {
     "name": "stderr",
     "output_type": "stream",
     "text": [
      "Loss=0.046248 Batch_id=468 Accuracy=98.68: 100%|█| 469/469 [00:04<00:00, 111.45i\n"
     ]
    },
    {
     "name": "stdout",
     "output_type": "stream",
     "text": [
      "\n",
      "Test set: Average loss: 0.0504, Accuracy: 9908/10000 (99.08%)\n",
      "\n",
      "EPOCH: 16\n"
     ]
    },
    {
     "name": "stderr",
     "output_type": "stream",
     "text": [
      "Loss=0.045343 Batch_id=468 Accuracy=98.69: 100%|█| 469/469 [00:04<00:00, 112.78i\n"
     ]
    },
    {
     "name": "stdout",
     "output_type": "stream",
     "text": [
      "\n",
      "Test set: Average loss: 0.0479, Accuracy: 9920/10000 (99.20%)\n",
      "\n",
      "EPOCH: 17\n"
     ]
    },
    {
     "name": "stderr",
     "output_type": "stream",
     "text": [
      "Loss=0.042786 Batch_id=468 Accuracy=98.78: 100%|█| 469/469 [00:04<00:00, 113.64i\n"
     ]
    },
    {
     "name": "stdout",
     "output_type": "stream",
     "text": [
      "\n",
      "Test set: Average loss: 0.0455, Accuracy: 9933/10000 (99.33%)\n",
      "\n",
      "EPOCH: 18\n"
     ]
    },
    {
     "name": "stderr",
     "output_type": "stream",
     "text": [
      "Loss=0.042912 Batch_id=468 Accuracy=98.78: 100%|█| 469/469 [00:04<00:00, 113.15i\n"
     ]
    },
    {
     "name": "stdout",
     "output_type": "stream",
     "text": [
      "\n",
      "Test set: Average loss: 0.0442, Accuracy: 9929/10000 (99.29%)\n",
      "\n",
      "EPOCH: 19\n"
     ]
    },
    {
     "name": "stderr",
     "output_type": "stream",
     "text": [
      "Loss=0.043741 Batch_id=468 Accuracy=98.77: 100%|█| 469/469 [00:04<00:00, 115.06i\n"
     ]
    },
    {
     "name": "stdout",
     "output_type": "stream",
     "text": [
      "\n",
      "Test set: Average loss: 0.0457, Accuracy: 9930/10000 (99.30%)\n",
      "\n",
      "EPOCH: 20\n"
     ]
    },
    {
     "name": "stderr",
     "output_type": "stream",
     "text": [
      "Loss=0.043403 Batch_id=468 Accuracy=98.73: 100%|█| 469/469 [00:04<00:00, 115.63i\n"
     ]
    },
    {
     "name": "stdout",
     "output_type": "stream",
     "text": [
      "\n",
      "Test set: Average loss: 0.0430, Accuracy: 9937/10000 (99.37%)\n",
      "\n",
      "EPOCH: 21\n"
     ]
    },
    {
     "name": "stderr",
     "output_type": "stream",
     "text": [
      "Loss=0.041954 Batch_id=468 Accuracy=98.75: 100%|█| 469/469 [00:04<00:00, 115.28i\n"
     ]
    },
    {
     "name": "stdout",
     "output_type": "stream",
     "text": [
      "\n",
      "Test set: Average loss: 0.0450, Accuracy: 9929/10000 (99.29%)\n",
      "\n",
      "EPOCH: 22\n"
     ]
    },
    {
     "name": "stderr",
     "output_type": "stream",
     "text": [
      "Loss=0.041045 Batch_id=468 Accuracy=98.82: 100%|█| 469/469 [00:04<00:00, 113.35i\n"
     ]
    },
    {
     "name": "stdout",
     "output_type": "stream",
     "text": [
      "\n",
      "Test set: Average loss: 0.0467, Accuracy: 9931/10000 (99.31%)\n",
      "\n",
      "EPOCH: 23\n"
     ]
    },
    {
     "name": "stderr",
     "output_type": "stream",
     "text": [
      "Loss=0.040611 Batch_id=468 Accuracy=98.84: 100%|█| 469/469 [00:04<00:00, 110.72i\n"
     ]
    },
    {
     "name": "stdout",
     "output_type": "stream",
     "text": [
      "\n",
      "Test set: Average loss: 0.0454, Accuracy: 9934/10000 (99.34%)\n",
      "\n",
      "EPOCH: 24\n"
     ]
    },
    {
     "name": "stderr",
     "output_type": "stream",
     "text": [
      "Loss=0.040530 Batch_id=468 Accuracy=98.83: 100%|█| 469/469 [00:04<00:00, 114.29i\n"
     ]
    },
    {
     "name": "stdout",
     "output_type": "stream",
     "text": [
      "\n",
      "Test set: Average loss: 0.0469, Accuracy: 9924/10000 (99.24%)\n",
      "\n",
      "Accuracy model on   L1 & L2 + BN\n"
     ]
    },
    {
     "data": {
      "image/png": "[encoded data removed]",
      "text/plain": [
       "<Figure size 1200x1200 with 25 Axes>"
      ]
     },
     "metadata": {},
     "output_type": "display_data"
    },
    {
     "data": {
      "image/png": "[encoded data removed]",
      "text/plain": [
       "<Figure size 2000x500 with 2 Axes>"
      ]
     },
     "metadata": {},
     "output_type": "display_data"
    },
    {
     "name": "stdout",
     "output_type": "stream",
     "text": [
      "Missclassification on  L1 & L2 + BN\n",
      "GHOST BHAI is  True\n",
      "Model with  GBN\n",
      "EPOCH: 1\n"
     ]
    },
    {
     "name": "stderr",
     "output_type": "stream",
     "text": [
      "  0%|                                                   | 0/469 [00:00<?, ?it/s]/home/jd/miniconda3/envs/eva/lib/python3.10/site-packages/torch/nn/_reduction.py:42: UserWarning: size_average and reduce args will be deprecated, please use reduction='sum' instead.\n",
      "  warnings.warn(warning.format(ret))\n",
      "Loss=0.951905 Batch_id=468 Accuracy=75.43: 100%|█| 469/469 [00:04<00:00, 113.47i\n"
     ]
    },
    {
     "name": "stdout",
     "output_type": "stream",
     "text": [
      "\n",
      "Test set: Average loss: 0.2434, Accuracy: 9478/10000 (94.78%)\n",
      "\n",
      "EPOCH: 2\n"
     ]
    },
    {
     "name": "stderr",
     "output_type": "stream",
     "text": [
      "Loss=0.188670 Batch_id=468 Accuracy=95.91: 100%|█| 469/469 [00:04<00:00, 112.41i\n"
     ]
    },
    {
     "name": "stdout",
     "output_type": "stream",
     "text": [
      "\n",
      "Test set: Average loss: 0.0992, Accuracy: 9787/10000 (97.87%)\n",
      "\n",
      "EPOCH: 3\n"
     ]
    },
    {
     "name": "stderr",
     "output_type": "stream",
     "text": [
      "Loss=0.125420 Batch_id=468 Accuracy=96.97: 100%|█| 469/469 [00:04<00:00, 114.88i\n"
     ]
    },
    {
     "name": "stdout",
     "output_type": "stream",
     "text": [
      "\n",
      "Test set: Average loss: 0.0896, Accuracy: 9819/10000 (98.19%)\n",
      "\n",
      "EPOCH: 4\n"
     ]
    },
    {
     "name": "stderr",
     "output_type": "stream",
     "text": [
      "Loss=0.103429 Batch_id=468 Accuracy=97.39: 100%|█| 469/469 [00:04<00:00, 112.20i\n"
     ]
    },
    {
     "name": "stdout",
     "output_type": "stream",
     "text": [
      "\n",
      "Test set: Average loss: 0.0634, Accuracy: 9885/10000 (98.85%)\n",
      "\n",
      "EPOCH: 5\n"
     ]
    },
    {
     "name": "stderr",
     "output_type": "stream",
     "text": [
      "Loss=0.088250 Batch_id=468 Accuracy=97.72: 100%|█| 469/469 [00:04<00:00, 111.45i\n"
     ]
    },
    {
     "name": "stdout",
     "output_type": "stream",
     "text": [
      "\n",
      "Test set: Average loss: 0.0584, Accuracy: 9894/10000 (98.94%)\n",
      "\n",
      "EPOCH: 6\n"
     ]
    },
    {
     "name": "stderr",
     "output_type": "stream",
     "text": [
      "Loss=0.080692 Batch_id=468 Accuracy=97.92: 100%|█| 469/469 [00:04<00:00, 109.55i\n"
     ]
    },
    {
     "name": "stdout",
     "output_type": "stream",
     "text": [
      "\n",
      "Test set: Average loss: 0.0563, Accuracy: 9886/10000 (98.86%)\n",
      "\n",
      "EPOCH: 7\n"
     ]
    },
    {
     "name": "stderr",
     "output_type": "stream",
     "text": [
      "Loss=0.076261 Batch_id=468 Accuracy=97.95: 100%|█| 469/469 [00:04<00:00, 110.28i\n"
     ]
    },
    {
     "name": "stdout",
     "output_type": "stream",
     "text": [
      "\n",
      "Test set: Average loss: 0.0624, Accuracy: 9887/10000 (98.87%)\n",
      "\n",
      "EPOCH: 8\n"
     ]
    },
    {
     "name": "stderr",
     "output_type": "stream",
     "text": [
      "Loss=0.071260 Batch_id=468 Accuracy=98.06: 100%|█| 469/469 [00:04<00:00, 112.57i\n"
     ]
    },
    {
     "name": "stdout",
     "output_type": "stream",
     "text": [
      "\n",
      "Test set: Average loss: 0.0523, Accuracy: 9906/10000 (99.06%)\n",
      "\n",
      "EPOCH: 9\n"
     ]
    },
    {
     "name": "stderr",
     "output_type": "stream",
     "text": [
      "Loss=0.069145 Batch_id=468 Accuracy=98.10: 100%|█| 469/469 [00:04<00:00, 115.80i\n"
     ]
    },
    {
     "name": "stdout",
     "output_type": "stream",
     "text": [
      "\n",
      "Test set: Average loss: 0.0505, Accuracy: 9918/10000 (99.18%)\n",
      "\n",
      "EPOCH: 10\n"
     ]
    },
    {
     "name": "stderr",
     "output_type": "stream",
     "text": [
      "Loss=0.065670 Batch_id=468 Accuracy=98.21: 100%|█| 469/469 [00:04<00:00, 115.19i\n"
     ]
    },
    {
     "name": "stdout",
     "output_type": "stream",
     "text": [
      "\n",
      "Test set: Average loss: 0.0489, Accuracy: 9918/10000 (99.18%)\n",
      "\n",
      "EPOCH: 11\n"
     ]
    },
    {
     "name": "stderr",
     "output_type": "stream",
     "text": [
      "Loss=0.063755 Batch_id=468 Accuracy=98.28: 100%|█| 469/469 [00:04<00:00, 116.29i\n"
     ]
    },
    {
     "name": "stdout",
     "output_type": "stream",
     "text": [
      "\n",
      "Test set: Average loss: 0.0492, Accuracy: 9918/10000 (99.18%)\n",
      "\n",
      "EPOCH: 12\n"
     ]
    },
    {
     "name": "stderr",
     "output_type": "stream",
     "text": [
      "Loss=0.062121 Batch_id=468 Accuracy=98.22: 100%|█| 469/469 [00:04<00:00, 106.56i\n"
     ]
    },
    {
     "name": "stdout",
     "output_type": "stream",
     "text": [
      "\n",
      "Test set: Average loss: 0.0489, Accuracy: 9912/10000 (99.12%)\n",
      "\n",
      "EPOCH: 13\n"
     ]
    },
    {
     "name": "stderr",
     "output_type": "stream",
     "text": [
      "Loss=0.059753 Batch_id=468 Accuracy=98.34: 100%|█| 469/469 [00:04<00:00, 111.82i\n"
     ]
    },
    {
     "name": "stdout",
     "output_type": "stream",
     "text": [
      "\n",
      "Test set: Average loss: 0.0478, Accuracy: 9915/10000 (99.15%)\n",
      "\n",
      "EPOCH: 14\n"
     ]
    },
    {
     "name": "stderr",
     "output_type": "stream",
     "text": [
      "Loss=0.057986 Batch_id=468 Accuracy=98.36: 100%|█| 469/469 [00:04<00:00, 106.44i\n"
     ]
    },
    {
     "name": "stdout",
     "output_type": "stream",
     "text": [
      "\n",
      "Test set: Average loss: 0.0487, Accuracy: 9924/10000 (99.24%)\n",
      "\n",
      "EPOCH: 15\n"
     ]
    },
    {
     "name": "stderr",
     "output_type": "stream",
     "text": [
      "Loss=0.059093 Batch_id=468 Accuracy=98.31: 100%|█| 469/469 [00:04<00:00, 110.45i\n"
     ]
    },
    {
     "name": "stdout",
     "output_type": "stream",
     "text": [
      "\n",
      "Test set: Average loss: 0.0474, Accuracy: 9922/10000 (99.22%)\n",
      "\n",
      "EPOCH: 16\n"
     ]
    },
    {
     "name": "stderr",
     "output_type": "stream",
     "text": [
      "Loss=0.055347 Batch_id=468 Accuracy=98.53: 100%|█| 469/469 [00:04<00:00, 114.63i\n"
     ]
    },
    {
     "name": "stdout",
     "output_type": "stream",
     "text": [
      "\n",
      "Test set: Average loss: 0.0484, Accuracy: 9910/10000 (99.10%)\n",
      "\n",
      "EPOCH: 17\n"
     ]
    },
    {
     "name": "stderr",
     "output_type": "stream",
     "text": [
      "Loss=0.055664 Batch_id=468 Accuracy=98.45: 100%|█| 469/469 [00:04<00:00, 108.84i\n"
     ]
    },
    {
     "name": "stdout",
     "output_type": "stream",
     "text": [
      "\n",
      "Test set: Average loss: 0.0475, Accuracy: 9918/10000 (99.18%)\n",
      "\n",
      "EPOCH: 18\n"
     ]
    },
    {
     "name": "stderr",
     "output_type": "stream",
     "text": [
      "Loss=0.054669 Batch_id=468 Accuracy=98.47: 100%|█| 469/469 [00:04<00:00, 108.02i\n"
     ]
    },
    {
     "name": "stdout",
     "output_type": "stream",
     "text": [
      "\n",
      "Test set: Average loss: 0.0509, Accuracy: 9912/10000 (99.12%)\n",
      "\n",
      "EPOCH: 19\n"
     ]
    },
    {
     "name": "stderr",
     "output_type": "stream",
     "text": [
      "Loss=0.053089 Batch_id=274 Accuracy=98.50:  58%|▌| 270/469 [00:02<00:01, 103.02i"
     ]
    }
   ],
   "source": [
    "models = ['L1+BN','L2+BN','L1 & L2 + BN','GBN','L1 & L2 + GBN']\n",
    "train_acc1 ,train_losses1 ,test_acc1 ,test_losses1 = modelcalling(models,EPOCHS= 25,learning_rate = 0.01)"
   ]
  },
  {
   "cell_type": "code",
   "execution_count": null,
   "metadata": {},
   "outputs": [],
   "source": []
  },
  {
   "cell_type": "code",
   "execution_count": null,
   "metadata": {},
   "outputs": [],
   "source": []
  },
  {
   "cell_type": "code",
   "execution_count": null,
   "metadata": {},
   "outputs": [],
   "source": []
  },
  {
   "cell_type": "code",
   "execution_count": null,
   "metadata": {},
   "outputs": [],
   "source": []
  },
  {
   "cell_type": "markdown",
   "metadata": {},
   "source": [
    "### Testing  "
   ]
  },
  {
   "cell_type": "raw",
   "metadata": {},
   "source": [
    "for i in models:\n",
    "    name = i + '_missclassified_images.jpg'\n",
    "    print (name)\n",
    "    image = io.imread(name)\n",
    "    plt.subplots(figsize = (20,20))\n",
    "    plt.imshow(image)\n",
    "    plt.title(i + '_missclassified_images')"
   ]
  },
  {
   "cell_type": "raw",
   "metadata": {},
   "source": [
    "image = plt.imread('GBN_missclassified_images.png')\n",
    "plt.subplots(figsize = (20,20))\n",
    "plt.imshow(image)"
   ]
  },
  {
   "cell_type": "raw",
   "metadata": {},
   "source": [
    "l1_check = False\n",
    "l2_val = 0\n",
    "ghost = True\n",
    "typ = 'GBN'\n",
    "EPOCHS = 5\n",
    "learning_rate = 0.01\n",
    "\n",
    "model =  Net(ghost).to(device)\n",
    "train_acc4 ,train_losses4 ,test_acc4 ,test_losses4 = model_building(typ, model, device,train_loader, test_loader,l1_check,l2_val,EPOCHS,learning_rate)\n",
    "plot_acc_loss(typ, train_acc4 ,train_losses4 ,test_acc4 ,test_losses4)\n",
    "miss_classification(typ, model, device, testloader = test_loader, num_of_images = 25, filename=typ)"
   ]
  },
  {
   "cell_type": "code",
   "execution_count": null,
   "metadata": {},
   "outputs": [],
   "source": []
  },
  {
   "cell_type": "code",
   "execution_count": null,
   "metadata": {},
   "outputs": [],
   "source": []
  },
  {
   "cell_type": "code",
   "execution_count": null,
   "metadata": {},
   "outputs": [],
   "source": []
  }
 ],
 "metadata": {
  "kernelspec": {
   "display_name": "Python 3 (ipykernel)",
   "language": "python",
   "name": "python3"
  },
  "language_info": {
   "codemirror_mode": {
    "name": "ipython",
    "version": 3
   },
   "file_extension": ".py",
   "mimetype": "text/x-python",
   "name": "python",
   "nbconvert_exporter": "python",
   "pygments_lexer": "ipython3",
   "version": "3.10.8"
  }
 },
 "nbformat": 4,
 "nbformat_minor": 4
}
