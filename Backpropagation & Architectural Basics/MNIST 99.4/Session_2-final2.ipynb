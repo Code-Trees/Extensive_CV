{
 "cells": [
  {
   "cell_type": "code",
   "execution_count": 19,
   "metadata": {
    "colab": {},
    "colab_type": "code",
    "id": "0m2JWFliFfKT"
   },
   "outputs": [],
   "source": [
    "from __future__ import print_function\n",
    "import torch\n",
    "import torch.nn as nn\n",
    "import torch.nn.functional as F\n",
    "import torch.optim as optim\n",
    "from torchvision import datasets, transforms"
   ]
  },
  {
   "cell_type": "code",
   "execution_count": 31,
   "metadata": {
    "colab": {},
    "colab_type": "code",
    "id": "h_Cx9q2QFgM7"
   },
   "outputs": [],
   "source": [
    "class Net(nn.Module):\n",
    "    def __init__(self):\n",
    "        super(Net, self).__init__()\n",
    "        self.conv1 = nn.Conv2d(in_channels=1,out_channels=8,kernel_size=3,padding=0) #26\n",
    "        self.bath1 = nn.BatchNorm2d(num_features=8)\n",
    "        \n",
    "        self.conv2 = nn.Conv2d(in_channels=8,out_channels=8,kernel_size=3,padding=0) #24 \n",
    "        self.bath2 = nn.BatchNorm2d(num_features=8)\n",
    "        \n",
    "        self.conv3 = nn.Conv2d(in_channels=8,out_channels=16,kernel_size=3,padding=0) #22 \n",
    "        self.bath3 = nn.BatchNorm2d(num_features=16)\n",
    "        self.pool1 = nn.MaxPool2d(kernel_size=2,stride=2) #11\n",
    "        \n",
    "        \n",
    "        self.conv4 = nn.Conv2d(in_channels=16,out_channels=16,kernel_size=3,padding=0) #9 \n",
    "        self.bath4 = nn.BatchNorm2d(num_features=16)\n",
    "        \n",
    "        self.conv5 = nn.Conv2d(in_channels=16,out_channels=32,kernel_size=3,padding=0) #7\n",
    "        self.bath5 = nn.BatchNorm2d(num_features=32)\n",
    "        \n",
    "        self.conv6 = nn.Conv2d(in_channels=32,out_channels=16,kernel_size=1,padding=0) #7\n",
    "        self.bath6 = nn.BatchNorm2d(num_features=16)\n",
    "        \n",
    "        self.conv7 = nn.Conv2d(in_channels=16,out_channels=16,kernel_size=3,padding=0)  #5\n",
    "        self.bath7 = nn.BatchNorm2d(num_features=16)\n",
    "        \n",
    "        self.conv8 = nn.Conv2d(in_channels=16,out_channels=32,kernel_size=3,padding=0) #3\n",
    "        self.bath8 = nn.BatchNorm2d(num_features=32)\n",
    "        \n",
    "        self.conv9 = nn.Conv2d(in_channels=32,out_channels=10,kernel_size=3,padding=0) #1\n",
    "        \n",
    "        \n",
    "    def forward(self, x):\n",
    "        x = self.bath1(F.relu(self.conv1(x)))\n",
    "        x = self.bath2(F.relu(self.conv2(x)))\n",
    "        x = self.pool1(self.bath3(F.relu(self.conv3(x))))\n",
    "        x = self.bath4(F.relu(self.conv4(x)))\n",
    "        x = self.bath5(F.relu(self.conv5(x)))\n",
    "        x = self.bath6(F.relu(self.conv6(x)))\n",
    "        x = self.bath7(F.relu(self.conv7(x)))\n",
    "        x = self.bath8(F.relu(self.conv8(x)))\n",
    "        x = self.conv9(x)\n",
    "        x = x.view(-1,10)\n",
    "        return F.log_softmax(x)"
   ]
  },
  {
   "cell_type": "code",
   "execution_count": 32,
   "metadata": {
    "colab": {
     "base_uri": "https://localhost:8080/",
     "height": 425
    },
    "colab_type": "code",
    "id": "xdydjYTZFyi3",
    "outputId": "9496a6df-53bc-4a95-e0bc-a96923866e40"
   },
   "outputs": [
    {
     "name": "stdout",
     "output_type": "stream",
     "text": [
      "Requirement already satisfied: torchsummary in /home/jd/anaconda3/lib/python3.7/site-packages (1.5.1)\n",
      "----------------------------------------------------------------\n",
      "        Layer (type)               Output Shape         Param #\n",
      "================================================================\n",
      "            Conv2d-1            [-1, 8, 26, 26]              80\n",
      "       BatchNorm2d-2            [-1, 8, 26, 26]              16\n",
      "            Conv2d-3            [-1, 8, 24, 24]             584\n",
      "       BatchNorm2d-4            [-1, 8, 24, 24]              16\n",
      "            Conv2d-5           [-1, 16, 22, 22]           1,168\n",
      "       BatchNorm2d-6           [-1, 16, 22, 22]              32\n",
      "         MaxPool2d-7           [-1, 16, 11, 11]               0\n",
      "            Conv2d-8             [-1, 16, 9, 9]           2,320\n",
      "       BatchNorm2d-9             [-1, 16, 9, 9]              32\n",
      "           Conv2d-10             [-1, 32, 7, 7]           4,640\n",
      "      BatchNorm2d-11             [-1, 32, 7, 7]              64\n",
      "           Conv2d-12             [-1, 16, 7, 7]             528\n",
      "      BatchNorm2d-13             [-1, 16, 7, 7]              32\n",
      "           Conv2d-14             [-1, 16, 5, 5]           2,320\n",
      "      BatchNorm2d-15             [-1, 16, 5, 5]              32\n",
      "           Conv2d-16             [-1, 32, 3, 3]           4,640\n",
      "      BatchNorm2d-17             [-1, 32, 3, 3]              64\n",
      "           Conv2d-18             [-1, 10, 1, 1]           2,890\n",
      "================================================================\n",
      "Total params: 19,458\n",
      "Trainable params: 19,458\n",
      "Non-trainable params: 0\n",
      "----------------------------------------------------------------\n",
      "Input size (MB): 0.00\n",
      "Forward/backward pass size (MB): 0.35\n",
      "Params size (MB): 0.07\n",
      "Estimated Total Size (MB): 0.43\n",
      "----------------------------------------------------------------\n"
     ]
    },
    {
     "name": "stderr",
     "output_type": "stream",
     "text": [
      "/home/jd/anaconda3/lib/python3.7/site-packages/ipykernel_launcher.py:44: UserWarning: Implicit dimension choice for log_softmax has been deprecated. Change the call to include dim=X as an argument.\n"
     ]
    }
   ],
   "source": [
    "!pip install torchsummary\n",
    "from torchsummary import summary\n",
    "use_cuda = torch.cuda.is_available()\n",
    "device = torch.device(\"cuda\" if use_cuda else \"cpu\") \n",
    "model = Net().to(device)\n",
    "summary(model, input_size=(1, 28, 28))"
   ]
  },
  {
   "cell_type": "code",
   "execution_count": 33,
   "metadata": {
    "colab": {},
    "colab_type": "code",
    "id": "DqTWLaM5GHgH"
   },
   "outputs": [],
   "source": [
    "torch.manual_seed(1)\n",
    "batch_size = 256\n",
    "\n",
    "kwargs = {'num_workers': 1, 'pin_memory': True} if use_cuda else {}\n",
    "train_loader = torch.utils.data.DataLoader(\n",
    "    datasets.MNIST('../data', train=True, download=True,\n",
    "                    transform=transforms.Compose([\n",
    "                        transforms.ToTensor(),\n",
    "                        transforms.Normalize((0.1307,), (0.3081,))\n",
    "                    ])),\n",
    "    batch_size=batch_size, shuffle=True, **kwargs)\n",
    "test_loader = torch.utils.data.DataLoader(\n",
    "    datasets.MNIST('../data', train=False, transform=transforms.Compose([\n",
    "                        transforms.ToTensor(),\n",
    "                        transforms.Normalize((0.1307,), (0.3081,))\n",
    "                    ])),\n",
    "    batch_size=batch_size, shuffle=True, **kwargs)\n"
   ]
  },
  {
   "cell_type": "code",
   "execution_count": 34,
   "metadata": {
    "colab": {
     "base_uri": "https://localhost:8080/",
     "height": 51
    },
    "colab_type": "code",
    "id": "8fDefDhaFlwH",
    "outputId": "07809533-f483-4bcd-8f40-d502a4307615"
   },
   "outputs": [],
   "source": [
    "from tqdm import tqdm\n",
    "l = []\n",
    "acc = []\n",
    "\n",
    "def train(model, device, train_loader, optimizer, epoch):\n",
    "    model.train()\n",
    "    pbar = tqdm(train_loader)\n",
    "    for batch_idx, (data, target) in enumerate(pbar):\n",
    "        data, target = data.to(device), target.to(device)\n",
    "        optimizer.zero_grad()\n",
    "        output = model(data)\n",
    "        loss = F.nll_loss(output, target)\n",
    "        loss.backward()\n",
    "        optimizer.step()\n",
    "        pbar.set_description(desc= f'loss={loss.item()} batch_id={batch_idx}')\n",
    "\n",
    "\n",
    "def test(model, device, test_loader):\n",
    "    model.eval()\n",
    "    test_loss = 0\n",
    "    correct = 0\n",
    "    with torch.no_grad():\n",
    "        for data, target in test_loader:\n",
    "            data, target = data.to(device), target.to(device)\n",
    "            output = model(data)\n",
    "            test_loss += F.nll_loss(output, target, reduction='sum').item()  # sum up batch loss\n",
    "            pred = output.argmax(dim=1, keepdim=True)  # get the index of the max log-probability\n",
    "            correct += pred.eq(target.view_as(pred)).sum().item()\n",
    "\n",
    "    test_loss /= len(test_loader.dataset)\n",
    "\n",
    "    print('\\nTest set: Average loss: {:.4f}, Accuracy: {}/{} ({:.0f}%)\\n'.format(\n",
    "        test_loss, correct, len(test_loader.dataset),\n",
    "        100. * correct / len(test_loader.dataset)))\n",
    "    l.append(test_loss)\n",
    "    acc.append(100. * correct / len(test_loader.dataset))"
   ]
  },
  {
   "cell_type": "code",
   "execution_count": 35,
   "metadata": {
    "colab": {
     "base_uri": "https://localhost:8080/",
     "height": 71
    },
    "colab_type": "code",
    "id": "MMWbLWO6FuHb",
    "outputId": "5abe26ae-c17c-4c89-e98f-8f3c3b02093a"
   },
   "outputs": [
    {
     "name": "stderr",
     "output_type": "stream",
     "text": [
      "  0%|          | 0/235 [00:00<?, ?it/s]"
     ]
    },
    {
     "name": "stdout",
     "output_type": "stream",
     "text": [
      "Epochs 1\n"
     ]
    },
    {
     "name": "stderr",
     "output_type": "stream",
     "text": [
      "/home/jd/anaconda3/lib/python3.7/site-packages/ipykernel_launcher.py:44: UserWarning: Implicit dimension choice for log_softmax has been deprecated. Change the call to include dim=X as an argument.\n",
      "loss=0.018573680892586708 batch_id=234: 100%|██████████| 235/235 [00:08<00:00, 26.85it/s]\n",
      "  0%|          | 0/235 [00:00<?, ?it/s]"
     ]
    },
    {
     "name": "stdout",
     "output_type": "stream",
     "text": [
      "\n",
      "Test set: Average loss: 0.0658, Accuracy: 9796/10000 (98%)\n",
      "\n",
      "Epochs 2\n"
     ]
    },
    {
     "name": "stderr",
     "output_type": "stream",
     "text": [
      "loss=0.06207960844039917 batch_id=234: 100%|██████████| 235/235 [00:09<00:00, 25.23it/s] \n",
      "  0%|          | 0/235 [00:00<?, ?it/s]"
     ]
    },
    {
     "name": "stdout",
     "output_type": "stream",
     "text": [
      "\n",
      "Test set: Average loss: 0.0444, Accuracy: 9867/10000 (99%)\n",
      "\n",
      "Epochs 3\n"
     ]
    },
    {
     "name": "stderr",
     "output_type": "stream",
     "text": [
      "loss=0.006708452943712473 batch_id=234: 100%|██████████| 235/235 [00:09<00:00, 25.26it/s] \n",
      "  0%|          | 0/235 [00:00<?, ?it/s]"
     ]
    },
    {
     "name": "stdout",
     "output_type": "stream",
     "text": [
      "\n",
      "Test set: Average loss: 0.0294, Accuracy: 9915/10000 (99%)\n",
      "\n",
      "Epochs 4\n"
     ]
    },
    {
     "name": "stderr",
     "output_type": "stream",
     "text": [
      "loss=0.058746665716171265 batch_id=234: 100%|██████████| 235/235 [00:09<00:00, 24.52it/s] \n",
      "  0%|          | 0/235 [00:00<?, ?it/s]"
     ]
    },
    {
     "name": "stdout",
     "output_type": "stream",
     "text": [
      "\n",
      "Test set: Average loss: 0.0329, Accuracy: 9901/10000 (99%)\n",
      "\n",
      "Epochs 5\n"
     ]
    },
    {
     "name": "stderr",
     "output_type": "stream",
     "text": [
      "loss=0.008541658520698547 batch_id=234: 100%|██████████| 235/235 [00:09<00:00, 24.83it/s] \n",
      "  0%|          | 0/235 [00:00<?, ?it/s]"
     ]
    },
    {
     "name": "stdout",
     "output_type": "stream",
     "text": [
      "\n",
      "Test set: Average loss: 0.0272, Accuracy: 9917/10000 (99%)\n",
      "\n",
      "Epochs 6\n"
     ]
    },
    {
     "name": "stderr",
     "output_type": "stream",
     "text": [
      "loss=0.0029802124481648207 batch_id=234: 100%|██████████| 235/235 [00:09<00:00, 24.83it/s]\n",
      "  0%|          | 0/235 [00:00<?, ?it/s]"
     ]
    },
    {
     "name": "stdout",
     "output_type": "stream",
     "text": [
      "\n",
      "Test set: Average loss: 0.0338, Accuracy: 9905/10000 (99%)\n",
      "\n",
      "Epochs 7\n"
     ]
    },
    {
     "name": "stderr",
     "output_type": "stream",
     "text": [
      "loss=0.015513484366238117 batch_id=234: 100%|██████████| 235/235 [00:09<00:00, 23.60it/s] \n",
      "  0%|          | 0/235 [00:00<?, ?it/s]"
     ]
    },
    {
     "name": "stdout",
     "output_type": "stream",
     "text": [
      "\n",
      "Test set: Average loss: 0.0286, Accuracy: 9914/10000 (99%)\n",
      "\n",
      "Epochs 8\n"
     ]
    },
    {
     "name": "stderr",
     "output_type": "stream",
     "text": [
      "loss=0.008176838047802448 batch_id=234: 100%|██████████| 235/235 [00:10<00:00, 22.64it/s] \n",
      "  0%|          | 0/235 [00:00<?, ?it/s]"
     ]
    },
    {
     "name": "stdout",
     "output_type": "stream",
     "text": [
      "\n",
      "Test set: Average loss: 0.0295, Accuracy: 9916/10000 (99%)\n",
      "\n",
      "Epochs 9\n"
     ]
    },
    {
     "name": "stderr",
     "output_type": "stream",
     "text": [
      "loss=0.01707255281507969 batch_id=234: 100%|██████████| 235/235 [00:09<00:00, 24.35it/s]  \n",
      "  0%|          | 0/235 [00:00<?, ?it/s]"
     ]
    },
    {
     "name": "stdout",
     "output_type": "stream",
     "text": [
      "\n",
      "Test set: Average loss: 0.0297, Accuracy: 9908/10000 (99%)\n",
      "\n",
      "Epochs 10\n"
     ]
    },
    {
     "name": "stderr",
     "output_type": "stream",
     "text": [
      "loss=0.009713451378047466 batch_id=234: 100%|██████████| 235/235 [00:09<00:00, 23.58it/s] \n",
      "  0%|          | 0/235 [00:00<?, ?it/s]"
     ]
    },
    {
     "name": "stdout",
     "output_type": "stream",
     "text": [
      "\n",
      "Test set: Average loss: 0.0291, Accuracy: 9910/10000 (99%)\n",
      "\n",
      "Epochs 11\n"
     ]
    },
    {
     "name": "stderr",
     "output_type": "stream",
     "text": [
      "loss=0.0020394225139170885 batch_id=234: 100%|██████████| 235/235 [00:09<00:00, 23.57it/s]\n",
      "  0%|          | 0/235 [00:00<?, ?it/s]"
     ]
    },
    {
     "name": "stdout",
     "output_type": "stream",
     "text": [
      "\n",
      "Test set: Average loss: 0.0236, Accuracy: 9930/10000 (99%)\n",
      "\n",
      "Epochs 12\n"
     ]
    },
    {
     "name": "stderr",
     "output_type": "stream",
     "text": [
      "loss=0.0045227608643472195 batch_id=234: 100%|██████████| 235/235 [00:10<00:00, 23.48it/s]\n",
      "  0%|          | 0/235 [00:00<?, ?it/s]"
     ]
    },
    {
     "name": "stdout",
     "output_type": "stream",
     "text": [
      "\n",
      "Test set: Average loss: 0.0261, Accuracy: 9928/10000 (99%)\n",
      "\n",
      "Epochs 13\n"
     ]
    },
    {
     "name": "stderr",
     "output_type": "stream",
     "text": [
      "loss=0.020914757624268532 batch_id=234: 100%|██████████| 235/235 [00:09<00:00, 23.86it/s]  \n",
      "  0%|          | 0/235 [00:00<?, ?it/s]"
     ]
    },
    {
     "name": "stdout",
     "output_type": "stream",
     "text": [
      "\n",
      "Test set: Average loss: 0.0253, Accuracy: 9930/10000 (99%)\n",
      "\n",
      "Epochs 14\n"
     ]
    },
    {
     "name": "stderr",
     "output_type": "stream",
     "text": [
      "loss=0.001239130855537951 batch_id=234: 100%|██████████| 235/235 [00:09<00:00, 24.27it/s]  \n",
      "  0%|          | 0/235 [00:00<?, ?it/s]"
     ]
    },
    {
     "name": "stdout",
     "output_type": "stream",
     "text": [
      "\n",
      "Test set: Average loss: 0.0236, Accuracy: 9940/10000 (99%)\n",
      "\n",
      "Epochs 15\n"
     ]
    },
    {
     "name": "stderr",
     "output_type": "stream",
     "text": [
      "loss=0.0014798343181610107 batch_id=234: 100%|██████████| 235/235 [00:09<00:00, 24.13it/s] \n",
      "  0%|          | 0/235 [00:00<?, ?it/s]"
     ]
    },
    {
     "name": "stdout",
     "output_type": "stream",
     "text": [
      "\n",
      "Test set: Average loss: 0.0265, Accuracy: 9932/10000 (99%)\n",
      "\n",
      "Epochs 16\n"
     ]
    },
    {
     "name": "stderr",
     "output_type": "stream",
     "text": [
      "loss=0.002102196216583252 batch_id=234: 100%|██████████| 235/235 [00:09<00:00, 23.72it/s]  \n",
      "  0%|          | 0/235 [00:00<?, ?it/s]"
     ]
    },
    {
     "name": "stdout",
     "output_type": "stream",
     "text": [
      "\n",
      "Test set: Average loss: 0.0258, Accuracy: 9936/10000 (99%)\n",
      "\n",
      "Epochs 17\n"
     ]
    },
    {
     "name": "stderr",
     "output_type": "stream",
     "text": [
      "loss=0.0002664029598236084 batch_id=234: 100%|██████████| 235/235 [00:09<00:00, 23.97it/s] \n",
      "  0%|          | 0/235 [00:00<?, ?it/s]"
     ]
    },
    {
     "name": "stdout",
     "output_type": "stream",
     "text": [
      "\n",
      "Test set: Average loss: 0.0249, Accuracy: 9940/10000 (99%)\n",
      "\n",
      "Epochs 18\n"
     ]
    },
    {
     "name": "stderr",
     "output_type": "stream",
     "text": [
      "loss=0.001324127078987658 batch_id=234: 100%|██████████| 235/235 [00:09<00:00, 24.09it/s]  \n",
      "  0%|          | 0/235 [00:00<?, ?it/s]"
     ]
    },
    {
     "name": "stdout",
     "output_type": "stream",
     "text": [
      "\n",
      "Test set: Average loss: 0.0235, Accuracy: 9943/10000 (99%)\n",
      "\n",
      "Epochs 19\n"
     ]
    },
    {
     "name": "stderr",
     "output_type": "stream",
     "text": [
      "loss=0.0033211808186024427 batch_id=234: 100%|██████████| 235/235 [00:09<00:00, 24.21it/s] \n",
      "  0%|          | 0/235 [00:00<?, ?it/s]"
     ]
    },
    {
     "name": "stdout",
     "output_type": "stream",
     "text": [
      "\n",
      "Test set: Average loss: 0.0253, Accuracy: 9937/10000 (99%)\n",
      "\n",
      "Epochs 20\n"
     ]
    },
    {
     "name": "stderr",
     "output_type": "stream",
     "text": [
      "loss=0.004449824336916208 batch_id=234: 100%|██████████| 235/235 [00:09<00:00, 23.60it/s]  \n"
     ]
    },
    {
     "name": "stdout",
     "output_type": "stream",
     "text": [
      "\n",
      "Test set: Average loss: 0.0249, Accuracy: 9935/10000 (99%)\n",
      "\n"
     ]
    }
   ],
   "source": [
    "model = Net().to(device)\n",
    "optimizer = optim.SGD(model.parameters(), lr=0.0375, momentum=0.9)\n",
    "\n",
    "for epoch in range(1, 21):\n",
    "    print ('Epochs',epoch)\n",
    "    train(model, device, train_loader, optimizer, epoch)\n",
    "    test(model, device, test_loader)"
   ]
  },
  {
   "cell_type": "code",
   "execution_count": null,
   "metadata": {
    "colab": {},
    "colab_type": "code",
    "id": "So5uk4EkHW6R"
   },
   "outputs": [],
   "source": []
  },
  {
   "cell_type": "code",
   "execution_count": null,
   "metadata": {},
   "outputs": [],
   "source": []
  }
 ],
 "metadata": {
  "accelerator": "GPU",
  "colab": {
   "name": "EVA4 - Session 2.ipynb",
   "provenance": []
  },
  "kernelspec": {
   "display_name": "Python 3",
   "language": "python",
   "name": "python3"
  },
  "language_info": {
   "codemirror_mode": {
    "name": "ipython",
    "version": 3
   },
   "file_extension": ".py",
   "mimetype": "text/x-python",
   "name": "python",
   "nbconvert_exporter": "python",
   "pygments_lexer": "ipython3",
   "version": "3.7.6"
  }
 },
 "nbformat": 4,
 "nbformat_minor": 4
}
