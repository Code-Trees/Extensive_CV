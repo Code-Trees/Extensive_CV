{
 "cells": [
  {
   "cell_type": "code",
   "execution_count": 1,
   "id": "16159b42-8037-4db9-8675-b2ff38dcad18",
   "metadata": {},
   "outputs": [
    {
     "data": {
      "application/javascript": [
       "IPython.notebook.set_autosave_interval(20000)"
      ]
     },
     "metadata": {},
     "output_type": "display_data"
    },
    {
     "name": "stdout",
     "output_type": "stream",
     "text": [
      "Autosaving every 20 seconds\n"
     ]
    }
   ],
   "source": [
    "from IPython.core.interactiveshell import InteractiveShell\n",
    "InteractiveShell.ast_node_interactivity = 'all'\n",
    "%autosave 20"
   ]
  },
  {
   "cell_type": "code",
   "execution_count": 2,
   "id": "bc7ea08c-fe29-4871-bd5f-23d8b8187474",
   "metadata": {},
   "outputs": [],
   "source": [
    "import torch \n",
    "import  torch.nn as nn\n",
    "import torch.functional as F\n",
    "from torchvision import transforms"
   ]
  },
  {
   "cell_type": "code",
   "execution_count": 3,
   "id": "9f225df6-dae6-4156-b295-37649e11fa38",
   "metadata": {},
   "outputs": [
    {
     "data": {
      "text/plain": [
       "True"
      ]
     },
     "execution_count": 3,
     "metadata": {},
     "output_type": "execute_result"
    }
   ],
   "source": [
    "torch.cuda.is_available()"
   ]
  },
  {
   "cell_type": "code",
   "execution_count": 5,
   "id": "37887635-fbbd-4cd2-b8e4-cbf9dcf62840",
   "metadata": {},
   "outputs": [
    {
     "name": "stdout",
     "output_type": "stream",
     "text": [
      "Wed Dec 28 15:14:22 2022       \n",
      "+-----------------------------------------------------------------------------+\n",
      "| NVIDIA-SMI 525.60.11    Driver Version: 525.60.11    CUDA Version: 12.0     |\n",
      "|-------------------------------+----------------------+----------------------+\n",
      "| GPU  Name        Persistence-M| Bus-Id        Disp.A | Volatile Uncorr. ECC |\n",
      "| Fan  Temp  Perf  Pwr:Usage/Cap|         Memory-Usage | GPU-Util  Compute M. |\n",
      "|                               |                      |               MIG M. |\n",
      "|===============================+======================+======================|\n",
      "|   0  NVIDIA GeForce ...  Off  | 00000000:01:00.0  On |                  N/A |\n",
      "| N/A   59C    P5    20W /  N/A |     77MiB / 16384MiB |     21%      Default |\n",
      "|                               |                      |                  N/A |\n",
      "+-------------------------------+----------------------+----------------------+\n",
      "                                                                               \n",
      "+-----------------------------------------------------------------------------+\n",
      "| Processes:                                                                  |\n",
      "|  GPU   GI   CI        PID   Type   Process name                  GPU Memory |\n",
      "|        ID   ID                                                   Usage      |\n",
      "|=============================================================================|\n",
      "|    0   N/A  N/A      2236      G   /usr/lib/xorg/Xorg                 73MiB |\n",
      "+-----------------------------------------------------------------------------+\n"
     ]
    }
   ],
   "source": [
    "!nvidia-smi"
   ]
  },
  {
   "cell_type": "code",
   "execution_count": 6,
   "id": "34bd64b2-89f4-4378-bfaf-35fd8a1b72d3",
   "metadata": {},
   "outputs": [],
   "source": [
    "import numpy as np"
   ]
  },
  {
   "cell_type": "code",
   "execution_count": 8,
   "id": "4f0cebb7-64ad-4dd2-aee6-0aad9092fa73",
   "metadata": {},
   "outputs": [],
   "source": [
    "v0 = np.array(1.3)\n",
    "v1 = np.array([1.,2.,3.,4.])\n",
    "v2 = np.array([[1.,2.],[3.,4.]])"
   ]
  },
  {
   "cell_type": "code",
   "execution_count": 14,
   "id": "36c33e95-f4ca-4cb4-944e-d4e2562e8675",
   "metadata": {},
   "outputs": [
    {
     "data": {
      "text/plain": [
       "array(1.3)"
      ]
     },
     "execution_count": 14,
     "metadata": {},
     "output_type": "execute_result"
    },
    {
     "data": {
      "text/plain": [
       "array([1., 2., 3., 4.])"
      ]
     },
     "execution_count": 14,
     "metadata": {},
     "output_type": "execute_result"
    },
    {
     "data": {
      "text/plain": [
       "array([[1., 2.],\n",
       "       [3., 4.]])"
      ]
     },
     "execution_count": 14,
     "metadata": {},
     "output_type": "execute_result"
    },
    {
     "name": "stdout",
     "output_type": "stream",
     "text": [
      "0\n",
      "1\n",
      "2\n"
     ]
    }
   ],
   "source": [
    "v0\n",
    "v1\n",
    "v2\n",
    "print(v0.ndim)\n",
    "print(v1.ndim)\n",
    "print(v2.ndim)"
   ]
  },
  {
   "cell_type": "code",
   "execution_count": 19,
   "id": "fb51711c-4788-42b1-9a79-696dc37614cf",
   "metadata": {},
   "outputs": [
    {
     "data": {
      "text/plain": [
       "dtype('int64')"
      ]
     },
     "execution_count": 19,
     "metadata": {},
     "output_type": "execute_result"
    }
   ],
   "source": [
    "numpy_array = np.array([1,2,3])\n",
    "numpy_array.dtype"
   ]
  },
  {
   "cell_type": "markdown",
   "id": "51c062b2-eefc-47b7-9ff5-6bcd7c2eca45",
   "metadata": {},
   "source": [
    "###  First method from numpy to Torch"
   ]
  },
  {
   "cell_type": "code",
   "execution_count": 23,
   "id": "dc89f909-1a97-47ea-894d-77abff910951",
   "metadata": {},
   "outputs": [],
   "source": [
    "t1 = torch.Tensor(numpy_array,)\n",
    "#It is a constructure - same as torch.FloatTensor\n",
    "#Use  by default as float32\n",
    "#All other tensors inherit from this main tensor class"
   ]
  },
  {
   "cell_type": "code",
   "execution_count": 25,
   "id": "27ae7ef2-7e9b-4f20-a136-8b3aec2f565f",
   "metadata": {},
   "outputs": [
    {
     "data": {
      "text/plain": [
       "tensor([1., 2., 3.])"
      ]
     },
     "execution_count": 25,
     "metadata": {},
     "output_type": "execute_result"
    },
    {
     "data": {
      "text/plain": [
       "torch.Tensor"
      ]
     },
     "execution_count": 25,
     "metadata": {},
     "output_type": "execute_result"
    },
    {
     "data": {
      "text/plain": [
       "torch.float32"
      ]
     },
     "execution_count": 25,
     "metadata": {},
     "output_type": "execute_result"
    }
   ],
   "source": [
    "t1\n",
    "type(t1)\n",
    "t1.dtype                                                                                                                                                                                                                                                       "
   ]
  },
  {
   "cell_type": "code",
   "execution_count": 32,
   "id": "7e0a7515-b4b3-4bde-bcf9-3091dccc4493",
   "metadata": {},
   "outputs": [
    {
     "data": {
      "text/plain": [
       "tensor([1., 2., 3.], device='cuda:0')"
      ]
     },
     "execution_count": 32,
     "metadata": {},
     "output_type": "execute_result"
    },
    {
     "data": {
      "text/plain": [
       "tensor([1., 2., 3.])"
      ]
     },
     "execution_count": 32,
     "metadata": {},
     "output_type": "execute_result"
    }
   ],
   "source": [
    "t1.cuda()\n",
    "t1.cpu()"
   ]
  },
  {
   "cell_type": "markdown",
   "id": "ac9509e2-8d16-4207-b110-94b5f71c2a5c",
   "metadata": {},
   "source": [
    "### Second Method"
   ]
  },
  {
   "cell_type": "code",
   "execution_count": 33,
   "id": "fed96b3f-e126-4e64-b27b-b9b9ac1d105b",
   "metadata": {},
   "outputs": [
    {
     "data": {
      "text/plain": [
       "tensor([1, 2, 3])"
      ]
     },
     "execution_count": 33,
     "metadata": {},
     "output_type": "execute_result"
    }
   ],
   "source": [
    "t2 = torch.tensor(numpy_array)\n",
    "#Factory function (create a New Tensor from numpy array )\n",
    "#Doesn't share underlying memory with numpy\n",
    "#Always copy the data\n",
    "torch.tensor(numpy_array,\n",
    "         dtype=None, device=None, requires_grad=False, pin_memory=False)\n",
    "\n",
    "#Highly Recommended to Use as it can go to GPU , and Numpy can't"
   ]
  },
  {
   "cell_type": "code",
   "execution_count": 34,
   "id": "6eb0bd72-e6e6-462c-bb0b-5f418ffacfd7",
   "metadata": {},
   "outputs": [
    {
     "data": {
      "text/plain": [
       "tensor([1, 2, 3])"
      ]
     },
     "execution_count": 34,
     "metadata": {},
     "output_type": "execute_result"
    },
    {
     "data": {
      "text/plain": [
       "torch.Tensor"
      ]
     },
     "execution_count": 34,
     "metadata": {},
     "output_type": "execute_result"
    },
    {
     "data": {
      "text/plain": [
       "torch.int64"
      ]
     },
     "execution_count": 34,
     "metadata": {},
     "output_type": "execute_result"
    }
   ],
   "source": [
    "t2\n",
    "type(t2)\n",
    "t2.dtype                                                                                                                                                                                                                                                       "
   ]
  },
  {
   "cell_type": "markdown",
   "id": "5d9533d2-1a35-47ef-93ba-313786ccb253",
   "metadata": {},
   "source": [
    "### Third Method  "
   ]
  },
  {
   "cell_type": "code",
   "execution_count": 38,
   "id": "8a4d68c5-8beb-4cdf-a911-777ae9d00749",
   "metadata": {},
   "outputs": [],
   "source": [
    "t3 = torch.as_tensor(numpy_array)\n",
    "#Factory Function \n",
    "#Going to produce a New tensor of the same type\n",
    "#Shares underline memory with Numpy array( Changing  ojne will change other)\n",
    "#Can Accepy any python Data stracture, It can be Dictionary, List etc"
   ]
  },
  {
   "cell_type": "code",
   "execution_count": 36,
   "id": "83e50e0d-c116-4f63-b558-2107a7575d75",
   "metadata": {},
   "outputs": [
    {
     "data": {
      "text/plain": [
       "tensor([1, 2, 3])"
      ]
     },
     "execution_count": 36,
     "metadata": {},
     "output_type": "execute_result"
    },
    {
     "data": {
      "text/plain": [
       "torch.Tensor"
      ]
     },
     "execution_count": 36,
     "metadata": {},
     "output_type": "execute_result"
    },
    {
     "data": {
      "text/plain": [
       "torch.int64"
      ]
     },
     "execution_count": 36,
     "metadata": {},
     "output_type": "execute_result"
    }
   ],
   "source": [
    "t3\n",
    "type(t3)\n",
    "t3.dtype"
   ]
  },
  {
   "cell_type": "markdown",
   "id": "4a528837-5d82-4728-b84f-5213fc66ad77",
   "metadata": {},
   "source": [
    "### Fourth method"
   ]
  },
  {
   "cell_type": "code",
   "execution_count": 41,
   "id": "5c78c6af-aa37-406e-bfd1-7e74ba187076",
   "metadata": {},
   "outputs": [],
   "source": [
    "t4 = torch.from_numpy(numpy_array)\n",
    "#Can only Accept only Numpy"
   ]
  },
  {
   "cell_type": "code",
   "execution_count": 42,
   "id": "05094c40-d136-42b6-8d4e-de7e0295bc57",
   "metadata": {},
   "outputs": [
    {
     "data": {
      "text/plain": [
       "tensor([1, 2, 3])"
      ]
     },
     "execution_count": 42,
     "metadata": {},
     "output_type": "execute_result"
    },
    {
     "data": {
      "text/plain": [
       "torch.Tensor"
      ]
     },
     "execution_count": 42,
     "metadata": {},
     "output_type": "execute_result"
    },
    {
     "data": {
      "text/plain": [
       "torch.int64"
      ]
     },
     "execution_count": 42,
     "metadata": {},
     "output_type": "execute_result"
    }
   ],
   "source": [
    "t4\n",
    "type(t4)\n",
    "t4.dtype"
   ]
  },
  {
   "cell_type": "code",
   "execution_count": null,
   "id": "9c9505a8-8788-4204-9c4d-452d29cf4ed1",
   "metadata": {},
   "outputs": [],
   "source": []
  },
  {
   "cell_type": "code",
   "execution_count": null,
   "id": "23842d2d-d72a-44d2-ae3c-6adc82287da1",
   "metadata": {},
   "outputs": [],
   "source": []
  },
  {
   "cell_type": "code",
   "execution_count": 44,
   "id": "de1cd668-e7aa-4478-a902-ae0425a5b7d3",
   "metadata": {},
   "outputs": [
    {
     "data": {
      "text/plain": [
       "array([1, 2, 3])"
      ]
     },
     "execution_count": 44,
     "metadata": {},
     "output_type": "execute_result"
    },
    {
     "data": {
      "text/plain": [
       "array([ 4,  8, 12])"
      ]
     },
     "execution_count": 44,
     "metadata": {},
     "output_type": "execute_result"
    }
   ],
   "source": [
    "numpy_array\n",
    "numpy_array *= 4\n",
    "numpy_array"
   ]
  },
  {
   "cell_type": "code",
   "execution_count": 46,
   "id": "ce255ade-a279-4650-ae64-7250b356b601",
   "metadata": {},
   "outputs": [
    {
     "data": {
      "text/plain": [
       "tensor([1., 2., 3.])"
      ]
     },
     "execution_count": 46,
     "metadata": {},
     "output_type": "execute_result"
    },
    {
     "data": {
      "text/plain": [
       "tensor([1, 2, 3])"
      ]
     },
     "execution_count": 46,
     "metadata": {},
     "output_type": "execute_result"
    },
    {
     "data": {
      "text/plain": [
       "tensor([ 4,  8, 12])"
      ]
     },
     "execution_count": 46,
     "metadata": {},
     "output_type": "execute_result"
    },
    {
     "data": {
      "text/plain": [
       "tensor([ 4,  8, 12])"
      ]
     },
     "execution_count": 46,
     "metadata": {},
     "output_type": "execute_result"
    }
   ],
   "source": [
    "t1\n",
    "t2\n",
    "t3 #underlined memory changed \n",
    "t4 #underlined memory changed "
   ]
  },
  {
   "cell_type": "code",
   "execution_count": 49,
   "id": "6b05c770-1f3c-40fe-920c-d4183aebe84f",
   "metadata": {},
   "outputs": [
    {
     "data": {
      "text/plain": [
       "tensor([1., 2., 3.])"
      ]
     },
     "execution_count": 49,
     "metadata": {},
     "output_type": "execute_result"
    }
   ],
   "source": [
    "t1\n",
    "t1*=2"
   ]
  },
  {
   "cell_type": "code",
   "execution_count": 50,
   "id": "50a18e85-24de-43a7-8b2d-93efaf296066",
   "metadata": {},
   "outputs": [
    {
     "data": {
      "text/plain": [
       "tensor([2., 4., 6.])"
      ]
     },
     "execution_count": 50,
     "metadata": {},
     "output_type": "execute_result"
    },
    {
     "data": {
      "text/plain": [
       "tensor([1, 2, 3])"
      ]
     },
     "execution_count": 50,
     "metadata": {},
     "output_type": "execute_result"
    },
    {
     "data": {
      "text/plain": [
       "tensor([ 4,  8, 12])"
      ]
     },
     "execution_count": 50,
     "metadata": {},
     "output_type": "execute_result"
    },
    {
     "data": {
      "text/plain": [
       "tensor([ 4,  8, 12])"
      ]
     },
     "execution_count": 50,
     "metadata": {},
     "output_type": "execute_result"
    }
   ],
   "source": [
    "t1\n",
    "t2\n",
    "t3 #underlined memory changed \n",
    "t4 #underlined memory changed "
   ]
  },
  {
   "cell_type": "code",
   "execution_count": null,
   "id": "9f0b756f-5dcb-46e9-9122-63462cfd7fb1",
   "metadata": {},
   "outputs": [],
   "source": []
  },
  {
   "cell_type": "code",
   "execution_count": 52,
   "id": "b538b9ba-b2b7-4f26-8c0f-b825d025d1ae",
   "metadata": {},
   "outputs": [
    {
     "data": {
      "text/plain": [
       "tensor([ 4,  8, 12])"
      ]
     },
     "execution_count": 52,
     "metadata": {},
     "output_type": "execute_result"
    },
    {
     "data": {
      "text/plain": [
       "tensor([ 4,  8, 12], device='cuda:0')"
      ]
     },
     "execution_count": 52,
     "metadata": {},
     "output_type": "execute_result"
    }
   ],
   "source": [
    "t5 = t4.cuda()\n",
    "t4\n",
    "t5"
   ]
  },
  {
   "cell_type": "code",
   "execution_count": 53,
   "id": "4bc2f112-cb21-4b8b-a2fe-ba0c0b94d90e",
   "metadata": {},
   "outputs": [
    {
     "ename": "RuntimeError",
     "evalue": "Expected all tensors to be on the same device, but found at least two devices, cuda:0 and cpu!",
     "output_type": "error",
     "traceback": [
      "\u001b[0;31m---------------------------------------------------------------------------\u001b[0m",
      "\u001b[0;31mRuntimeError\u001b[0m                              Traceback (most recent call last)",
      "Cell \u001b[0;32mIn[53], line 1\u001b[0m\n\u001b[0;32m----> 1\u001b[0m \u001b[43mt4\u001b[49m\u001b[38;5;241;43m+\u001b[39;49m\u001b[43mt5\u001b[49m\n",
      "\u001b[0;31mRuntimeError\u001b[0m: Expected all tensors to be on the same device, but found at least two devices, cuda:0 and cpu!"
     ]
    }
   ],
   "source": [
    "t4+t5"
   ]
  },
  {
   "cell_type": "code",
   "execution_count": null,
   "id": "b682928c-f405-4216-81b3-a1ea4308b7e9",
   "metadata": {},
   "outputs": [],
   "source": []
  },
  {
   "cell_type": "markdown",
   "id": "ac565a06-7951-4947-8c52-1a88b3be4074",
   "metadata": {},
   "source": [
    "###  some important function to know in Torch"
   ]
  },
  {
   "cell_type": "code",
   "execution_count": 55,
   "id": "6876e19b-e9e1-43af-9ff4-98a4d469c565",
   "metadata": {},
   "outputs": [
    {
     "data": {
      "text/plain": [
       "tensor([[1., 0.],\n",
       "        [0., 1.]])"
      ]
     },
     "execution_count": 55,
     "metadata": {},
     "output_type": "execute_result"
    }
   ],
   "source": [
    "torch.eye(2)"
   ]
  },
  {
   "cell_type": "code",
   "execution_count": 56,
   "id": "1f82770f-5ced-4a8d-bd35-73ce7121c73f",
   "metadata": {},
   "outputs": [
    {
     "data": {
      "text/plain": [
       "tensor([[0., 0., 0.],\n",
       "        [0., 0., 0.]])"
      ]
     },
     "execution_count": 56,
     "metadata": {},
     "output_type": "execute_result"
    }
   ],
   "source": [
    "torch.zeros(2,3)"
   ]
  },
  {
   "cell_type": "code",
   "execution_count": 57,
   "id": "706a3b10-ba77-4a55-98b6-4a46680370b3",
   "metadata": {},
   "outputs": [
    {
     "data": {
      "text/plain": [
       "tensor([[1., 1., 1., 1.],\n",
       "        [1., 1., 1., 1.],\n",
       "        [1., 1., 1., 1.]])"
      ]
     },
     "execution_count": 57,
     "metadata": {},
     "output_type": "execute_result"
    }
   ],
   "source": [
    "torch.ones(3,4)"
   ]
  },
  {
   "cell_type": "code",
   "execution_count": 59,
   "id": "4aeb4849-92ac-4050-974b-4592174fc7a4",
   "metadata": {},
   "outputs": [
    {
     "data": {
      "text/plain": [
       "tensor([[0.6275, 0.6828, 0.1490, 0.7700],\n",
       "        [0.7153, 0.7327, 0.6402, 0.1602],\n",
       "        [0.9670, 0.6015, 0.0307, 0.8723]])"
      ]
     },
     "execution_count": 59,
     "metadata": {},
     "output_type": "execute_result"
    }
   ],
   "source": [
    "torch.rand(3,4)"
   ]
  },
  {
   "cell_type": "code",
   "execution_count": null,
   "id": "09bd263a-2c24-45ed-81c0-88dbb012f188",
   "metadata": {},
   "outputs": [],
   "source": []
  },
  {
   "cell_type": "code",
   "execution_count": null,
   "id": "840ceb09-f90b-4418-96a5-c42d3f6e9776",
   "metadata": {},
   "outputs": [],
   "source": []
  },
  {
   "cell_type": "code",
   "execution_count": 61,
   "id": "f4cd21b2-9231-416a-bdda-d086507cf9f5",
   "metadata": {},
   "outputs": [
    {
     "name": "stderr",
     "output_type": "stream",
     "text": [
      "/tmp/ipykernel_6363/3996130508.py:1: UserWarning: To copy construct from a tensor, it is recommended to use sourceTensor.clone().detach() or sourceTensor.clone().detach().requires_grad_(True), rather than torch.tensor(sourceTensor).\n",
      "  data = torch.tensor(torch.rand(2,3))\n"
     ]
    }
   ],
   "source": [
    "data = torch.tensor(torch.rand(2,3))"
   ]
  },
  {
   "cell_type": "code",
   "execution_count": 62,
   "id": "7eb84a1d-5cf8-4dc7-9031-053e4cd0fd2d",
   "metadata": {},
   "outputs": [
    {
     "data": {
      "text/plain": [
       "tensor([[0.5440, 0.7317, 0.8392],\n",
       "        [0.4421, 0.4625, 0.2335]])"
      ]
     },
     "execution_count": 62,
     "metadata": {},
     "output_type": "execute_result"
    }
   ],
   "source": [
    "data"
   ]
  },
  {
   "cell_type": "code",
   "execution_count": 65,
   "id": "c4a91de8-eca5-411a-a706-d4f4a2057bbd",
   "metadata": {},
   "outputs": [
    {
     "data": {
      "text/plain": [
       "tensor([[0.5440, 0.7317, 0.8392]])"
      ]
     },
     "execution_count": 65,
     "metadata": {},
     "output_type": "execute_result"
    },
    {
     "data": {
      "text/plain": [
       "tensor([0.7317, 0.4625])"
      ]
     },
     "execution_count": 65,
     "metadata": {},
     "output_type": "execute_result"
    },
    {
     "data": {
      "text/plain": [
       "tensor([[0.5440, 0.7317],\n",
       "        [0.4421, 0.4625]])"
      ]
     },
     "execution_count": 65,
     "metadata": {},
     "output_type": "execute_result"
    }
   ],
   "source": [
    "data[0:1]\n",
    "data[:,1]\n",
    "data[:,0:2  ]"
   ]
  },
  {
   "cell_type": "code",
   "execution_count": null,
   "id": "4f6e2639-6360-410f-96bb-2df4eeeed99b",
   "metadata": {},
   "outputs": [],
   "source": []
  },
  {
   "cell_type": "code",
   "execution_count": null,
   "id": "fa9ca101-19dd-486b-9653-74d313199561",
   "metadata": {},
   "outputs": [],
   "source": []
  },
  {
   "cell_type": "markdown",
   "id": "acfa8d54-c271-4084-8f58-75c8ccf3fb8b",
   "metadata": {},
   "source": [
    "### Autograd"
   ]
  },
  {
   "cell_type": "code",
   "execution_count": 66,
   "id": "93ce2378-135b-4cce-94fe-9abfacf8bdb8",
   "metadata": {},
   "outputs": [],
   "source": [
    "# Automatic Differentation for all the operations on Tensors \n",
    "# The backward grapg is automatically defined by the forward graph!"
   ]
  },
  {
   "cell_type": "code",
   "execution_count": 67,
   "id": "3300f418-1115-4b17-8836-e8e3444b8940",
   "metadata": {},
   "outputs": [],
   "source": [
    "from torch.autograd import grad"
   ]
  },
  {
   "cell_type": "code",
   "execution_count": 72,
   "id": "90b181a0-61b9-4d90-b7aa-f0fb4ec326c1",
   "metadata": {},
   "outputs": [],
   "source": [
    "x1 = torch.tensor(2,requires_grad = True,dtype = torch.float16)\n",
    "x2 = torch.tensor(3,requires_grad = True,dtype = torch.float16)\n",
    "x3 = torch.tensor(1,requires_grad = True,dtype = torch.float16)\n",
    "x4 = torch.tensor(4,requires_grad = True,dtype = torch.float16)"
   ]
  },
  {
   "cell_type": "code",
   "execution_count": 74,
   "id": "926d15c3-6083-4ff9-abf1-5da16f49da7e",
   "metadata": {},
   "outputs": [
    {
     "data": {
      "text/plain": [
       "tensor(2., dtype=torch.float16, requires_grad=True)"
      ]
     },
     "execution_count": 74,
     "metadata": {},
     "output_type": "execute_result"
    },
    {
     "data": {
      "text/plain": [
       "tensor(3., dtype=torch.float16, requires_grad=True)"
      ]
     },
     "execution_count": 74,
     "metadata": {},
     "output_type": "execute_result"
    },
    {
     "data": {
      "text/plain": [
       "tensor(1., dtype=torch.float16, requires_grad=True)"
      ]
     },
     "execution_count": 74,
     "metadata": {},
     "output_type": "execute_result"
    },
    {
     "data": {
      "text/plain": [
       "tensor(4., dtype=torch.float16, requires_grad=True)"
      ]
     },
     "execution_count": 74,
     "metadata": {},
     "output_type": "execute_result"
    }
   ],
   "source": [
    "x1\n",
    "x2\n",
    "x3\n",
    "x4"
   ]
  },
  {
   "cell_type": "code",
   "execution_count": 79,
   "id": "e367eb5a-0525-464d-9cd5-15f6875b23ab",
   "metadata": {},
   "outputs": [],
   "source": [
    "z1= x1*x2\n",
    "\n",
    "z2 = x3*x4\n",
    "\n",
    "f = z1+z2"
   ]
  },
  {
   "cell_type": "code",
   "execution_count": 83,
   "id": "e8e128c6-458e-4723-9b2e-8d6f90c7b9f2",
   "metadata": {},
   "outputs": [
    {
     "data": {
      "text/plain": [
       "tensor(6., dtype=torch.float16, grad_fn=<MulBackward0>)"
      ]
     },
     "execution_count": 83,
     "metadata": {},
     "output_type": "execute_result"
    },
    {
     "data": {
      "text/plain": [
       "tensor(4., dtype=torch.float16, grad_fn=<MulBackward0>)"
      ]
     },
     "execution_count": 83,
     "metadata": {},
     "output_type": "execute_result"
    },
    {
     "data": {
      "text/plain": [
       "tensor(10., dtype=torch.float16, grad_fn=<AddBackward0>)"
      ]
     },
     "execution_count": 83,
     "metadata": {},
     "output_type": "execute_result"
    }
   ],
   "source": [
    "z1\n",
    "z2\n",
    "f"
   ]
  },
  {
   "cell_type": "code",
   "execution_count": null,
   "id": "9ecd4142-b049-4607-9a86-f364f60cbf74",
   "metadata": {},
   "outputs": [],
   "source": []
  },
  {
   "cell_type": "code",
   "execution_count": 84,
   "id": "52ccb727-d64b-48bf-98da-5bb0ba7e6b53",
   "metadata": {},
   "outputs": [],
   "source": [
    "df_dx = grad(outputs=f,inputs=[x1,x2,x3,x4])"
   ]
  },
  {
   "cell_type": "code",
   "execution_count": 85,
   "id": "6c98911a-2677-4958-95ec-3f94c4cc3e3a",
   "metadata": {},
   "outputs": [
    {
     "data": {
      "text/plain": [
       "(tensor(2., dtype=torch.float16, requires_grad=True),\n",
       " tensor(3., dtype=torch.float16, requires_grad=True),\n",
       " tensor(1., dtype=torch.float16, requires_grad=True),\n",
       " tensor(4., dtype=torch.float16, requires_grad=True))"
      ]
     },
     "execution_count": 85,
     "metadata": {},
     "output_type": "execute_result"
    }
   ],
   "source": [
    "x1,x2,x3,x4"
   ]
  },
  {
   "cell_type": "code",
   "execution_count": null,
   "id": "f32a7437-6df2-4892-8de2-6f19ca7b3ac4",
   "metadata": {},
   "outputs": [],
   "source": []
  },
  {
   "cell_type": "code",
   "execution_count": 87,
   "id": "94cac7c3-e3d7-4d96-993f-71722b41fd71",
   "metadata": {},
   "outputs": [],
   "source": [
    "import torch.nn.functional as F\n",
    "from torch.optim import SGD"
   ]
  },
  {
   "cell_type": "code",
   "execution_count": 97,
   "id": "cbe8c9e8-cc1e-40f9-bd42-8fd2eecaec30",
   "metadata": {},
   "outputs": [],
   "source": [
    "optim = SGD(params=[x1,x2,x3,x4],lr = 2)"
   ]
  },
  {
   "cell_type": "code",
   "execution_count": 98,
   "id": "b570438f-ea9b-499f-9da2-44f4cc0abef5",
   "metadata": {},
   "outputs": [],
   "source": [
    "optim.zero_grad()"
   ]
  },
  {
   "cell_type": "code",
   "execution_count": 99,
   "id": "818ed8e7-84d7-48c9-bd96-081092f59cbe",
   "metadata": {},
   "outputs": [],
   "source": [
    "z1= x1*x2\n",
    "\n",
    "z2 = x3*x4\n",
    "\n",
    "f = z1+z2"
   ]
  },
  {
   "cell_type": "code",
   "execution_count": 100,
   "id": "cccafe4e-e143-4f99-a4fa-bd3cfbbf127c",
   "metadata": {},
   "outputs": [],
   "source": [
    "f.backward()"
   ]
  },
  {
   "cell_type": "code",
   "execution_count": 101,
   "id": "3bbfe944-1d4d-479e-9821-e114cc8841b9",
   "metadata": {},
   "outputs": [
    {
     "data": {
      "text/plain": [
       "(tensor(2., dtype=torch.float16, requires_grad=True),\n",
       " tensor(3., dtype=torch.float16, requires_grad=True),\n",
       " tensor(1., dtype=torch.float16, requires_grad=True),\n",
       " tensor(4., dtype=torch.float16, requires_grad=True))"
      ]
     },
     "execution_count": 101,
     "metadata": {},
     "output_type": "execute_result"
    }
   ],
   "source": [
    "x1,x2,x3,x4"
   ]
  },
  {
   "cell_type": "code",
   "execution_count": 102,
   "id": "d72a4351-3ee6-453e-861b-c77ef5c33221",
   "metadata": {},
   "outputs": [],
   "source": [
    "optim.zero_grad()"
   ]
  },
  {
   "cell_type": "code",
   "execution_count": 103,
   "id": "0b280825-b623-4764-9fb9-2d5eedd04069",
   "metadata": {},
   "outputs": [
    {
     "data": {
      "text/plain": [
       "(tensor(2., dtype=torch.float16, requires_grad=True),\n",
       " tensor(3., dtype=torch.float16, requires_grad=True),\n",
       " tensor(1., dtype=torch.float16, requires_grad=True),\n",
       " tensor(4., dtype=torch.float16, requires_grad=True))"
      ]
     },
     "execution_count": 103,
     "metadata": {},
     "output_type": "execute_result"
    }
   ],
   "source": [
    "x1,x2,x3,x4"
   ]
  },
  {
   "cell_type": "code",
   "execution_count": null,
   "id": "58751917-c634-441e-9cfa-9c3be71a9f3e",
   "metadata": {},
   "outputs": [],
   "source": []
  },
  {
   "cell_type": "code",
   "execution_count": null,
   "id": "cdb08f4b-dc70-4d12-bb80-9342daf532e7",
   "metadata": {},
   "outputs": [],
   "source": []
  },
  {
   "cell_type": "markdown",
   "id": "3cc09cdc-f499-4fff-8da1-5230968be385",
   "metadata": {},
   "source": [
    "### Operations"
   ]
  },
  {
   "cell_type": "code",
   "execution_count": 104,
   "id": "671dc72e-7673-4387-aff9-8e39e519a5f8",
   "metadata": {},
   "outputs": [
    {
     "name": "stderr",
     "output_type": "stream",
     "text": [
      "/tmp/ipykernel_6363/3185064091.py:1: UserWarning: To copy construct from a tensor, it is recommended to use sourceTensor.clone().detach() or sourceTensor.clone().detach().requires_grad_(True), rather than torch.tensor(sourceTensor).\n",
      "  t = torch.tensor(torch.rand(3,4))\n"
     ]
    }
   ],
   "source": [
    "t = torch.tensor(torch.rand(3,4))"
   ]
  },
  {
   "cell_type": "code",
   "execution_count": 107,
   "id": "3fe089e7-97a5-4a18-a607-009b6c7c34d8",
   "metadata": {},
   "outputs": [
    {
     "data": {
      "text/plain": [
       "(torch.Size([3, 4]), torch.Size([3, 4]), 3)"
      ]
     },
     "execution_count": 107,
     "metadata": {},
     "output_type": "execute_result"
    }
   ],
   "source": [
    "t.shape,t.size(),len(t)"
   ]
  },
  {
   "cell_type": "code",
   "execution_count": 108,
   "id": "834f29c0-644d-420b-8d91-7d1eb2db95d1",
   "metadata": {},
   "outputs": [
    {
     "data": {
      "text/plain": [
       "tensor(12)"
      ]
     },
     "execution_count": 108,
     "metadata": {},
     "output_type": "execute_result"
    }
   ],
   "source": [
    "torch.tensor(t.shape).prod()"
   ]
  },
  {
   "cell_type": "code",
   "execution_count": 109,
   "id": "1600fae2-3392-4edf-979a-8aa13124cfc7",
   "metadata": {},
   "outputs": [
    {
     "data": {
      "text/plain": [
       "12"
      ]
     },
     "execution_count": 109,
     "metadata": {},
     "output_type": "execute_result"
    }
   ],
   "source": [
    "t.numel()"
   ]
  },
  {
   "cell_type": "code",
   "execution_count": 116,
   "id": "23e504d6-b673-425a-a62a-0f9ca00ad21d",
   "metadata": {},
   "outputs": [
    {
     "data": {
      "text/plain": [
       "tensor([[0.1415, 0.0563, 0.7497, 0.7336, 0.8272, 0.8458, 0.9410, 0.9289, 0.8436,\n",
       "         0.9972, 0.3896, 0.1428]])"
      ]
     },
     "execution_count": 116,
     "metadata": {},
     "output_type": "execute_result"
    }
   ],
   "source": [
    "t.reshape(1,12)"
   ]
  },
  {
   "cell_type": "code",
   "execution_count": 115,
   "id": "0495fa31-98ba-4cc7-9187-a216767bb131",
   "metadata": {},
   "outputs": [
    {
     "data": {
      "text/plain": [
       "tensor([[0.1415],\n",
       "        [0.0563],\n",
       "        [0.7497],\n",
       "        [0.7336],\n",
       "        [0.8272],\n",
       "        [0.8458],\n",
       "        [0.9410],\n",
       "        [0.9289],\n",
       "        [0.8436],\n",
       "        [0.9972],\n",
       "        [0.3896],\n",
       "        [0.1428]])"
      ]
     },
     "execution_count": 115,
     "metadata": {},
     "output_type": "execute_result"
    }
   ],
   "source": [
    "t.reshape(12,1)"
   ]
  },
  {
   "cell_type": "code",
   "execution_count": null,
   "id": "7677927e-5ad2-4d69-be9c-e1767a9de3b7",
   "metadata": {},
   "outputs": [],
   "source": []
  }
 ],
 "metadata": {
  "kernelspec": {
   "display_name": "Python 3 (ipykernel)",
   "language": "python",
   "name": "python3"
  },
  "language_info": {
   "codemirror_mode": {
    "name": "ipython",
    "version": 3
   },
   "file_extension": ".py",
   "mimetype": "text/x-python",
   "name": "python",
   "nbconvert_exporter": "python",
   "pygments_lexer": "ipython3",
   "version": "3.10.8"
  }
 },
 "nbformat": 4,
 "nbformat_minor": 5
}
