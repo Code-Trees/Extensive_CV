{
 "cells": [
  {
   "cell_type": "markdown",
   "metadata": {},
   "source": [
    "### Importing Important Modules "
   ]
  },
  {
   "cell_type": "code",
   "execution_count": 1,
   "metadata": {},
   "outputs": [
    {
     "data": {
      "application/javascript": [
       "IPython.notebook.set_autosave_interval(20000)"
      ]
     },
     "metadata": {},
     "output_type": "display_data"
    },
    {
     "name": "stdout",
     "output_type": "stream",
     "text": [
      "Autosaving every 20 seconds\n"
     ]
    }
   ],
   "source": [
    "#Enabling interactive secession for the notebook and save in very 20 second.\n",
    "from IPython.core.interactiveshell import InteractiveShell\n",
    "InteractiveShell.ast_node_interactivity = 'all'\n",
    "%autosave 20"
   ]
  },
  {
   "cell_type": "code",
   "execution_count": 2,
   "metadata": {
    "id": "0m2JWFliFfKT"
   },
   "outputs": [
    {
     "name": "stderr",
     "output_type": "stream",
     "text": [
      "/home/jd/miniconda3/envs/eva/lib/python3.10/site-packages/tqdm/auto.py:22: TqdmWarning: IProgress not found. Please update jupyter and ipywidgets. See https://ipywidgets.readthedocs.io/en/stable/user_install.html\n",
      "  from .autonotebook import tqdm as notebook_tqdm\n"
     ]
    }
   ],
   "source": [
    "from __future__ import print_function\n",
    "import torch                                #Importing Torch module as ml framework desined for reserchers and developer.\n",
    "import torch.nn as nn                       #NN module have classes and modules to implement and train the neural network.\n",
    "import torch.nn.functional as F             #Functional provides module like activations,losses etc\n",
    "import torch.optim as optim                 #Importing optimizer moduke from torch\n",
    "from torchvision import datasets, transforms#Importing Torch vision for datasets and data transforms."
   ]
  },
  {
   "cell_type": "code",
   "execution_count": 3,
   "metadata": {},
   "outputs": [],
   "source": [
    "#importing a module created by me to calculate receptive field.Having copule of bugs but works fine.\n",
    "from  rf_calc import receptive_field"
   ]
  },
  {
   "cell_type": "code",
   "execution_count": 4,
   "metadata": {
    "colab": {
     "base_uri": "https://localhost:8080/",
     "height": 36
    },
    "id": "gkEw1JvHNc2x",
    "outputId": "60ce05b8-42fb-4717-c380-35015b749e65"
   },
   "outputs": [
    {
     "data": {
      "text/plain": [
       "'1.13.0'"
      ]
     },
     "execution_count": 4,
     "metadata": {},
     "output_type": "execute_result"
    }
   ],
   "source": [
    "torch.__version__ #checking Troch version"
   ]
  },
  {
   "cell_type": "code",
   "execution_count": 5,
   "metadata": {},
   "outputs": [
    {
     "name": "stdout",
     "output_type": "stream",
     "text": [
      "Is cuda GPU avalable: True\n"
     ]
    }
   ],
   "source": [
    "#Checking for torch GPU support\n",
    "print(f\"Is cuda GPU avalable: {torch.cuda.is_available()}\")"
   ]
  },
  {
   "cell_type": "code",
   "execution_count": 6,
   "metadata": {},
   "outputs": [
    {
     "data": {
      "text/plain": [
       "<torch._C.Generator at 0x7f80a1543b90>"
      ]
     },
     "execution_count": 6,
     "metadata": {},
     "output_type": "execute_result"
    }
   ],
   "source": [
    "use_cuda = torch.cuda.is_available() #chjecking if cuda is available or not\n",
    "device = torch.device(\"cuda\" if use_cuda else \"cpu\") #if gpu is available then device = cuda else cpu\n",
    "torch.manual_seed(1)\n",
    "batch_size = 128\n",
    "kwargs = {'num_workers': 1, 'pin_memory': True} if use_cuda else {}"
   ]
  },
  {
   "cell_type": "code",
   "execution_count": 7,
   "metadata": {},
   "outputs": [],
   "source": [
    "### Defining train loader and test loader \n",
    "\n",
    "train_loader = torch.utils.data.DataLoader(\n",
    "    datasets.MNIST('../data', train=True, download=True,  #downloading the data at /data folder,its for trainning\n",
    "                    transform=transforms.Compose([       #data transformation includes converting to tensor and normalizing with the mean and std of the dataset\n",
    "                        transforms.ToTensor(),\n",
    "                        transforms.Normalize((0.1307,), (0.3081,))\n",
    "                    ])),\n",
    "    batch_size=batch_size, shuffle=True, **kwargs)\n",
    "\n",
    "test_loader = torch.utils.data.DataLoader(\n",
    "    datasets.MNIST('../data', train=False, transform=transforms.Compose([\n",
    "                        transforms.ToTensor(),\n",
    "                        transforms.Normalize((0.1307,), (0.3081,))\n",
    "                    ])),\n",
    "    batch_size=batch_size, shuffle=True, **kwargs)\n",
    "\n",
    "### Trainning Function\n",
    "\n",
    "from tqdm import tqdm\n",
    "def train(model, device, train_loader, optimizer, epoch):\n",
    "    model.train()   #model set to trainning\n",
    "    pbar = tqdm(train_loader)\n",
    "    for batch_idx, (data, target) in enumerate(pbar): # Iterating through data and target\n",
    "        data, target = data.to(device), target.to(device)  #pushing data and target to gpu\n",
    "        optimizer.zero_grad() # making all the gradients to zero\n",
    "        output,x1,x2,x3,x4,x5 = model(data) # predicting op\n",
    "        type(output)\n",
    "        loss = F.nll_loss(output, target) # calculating loss\n",
    "        loss.backward()  # This is backpropagation in action.\n",
    "        optimizer.step() # Updating old weights with new \n",
    "        pbar.set_description(desc= f'loss={loss.item()} batch_id={batch_idx}')\n",
    "\n",
    "### Testing Function\n",
    "\n",
    "def test(model, device, test_loader):\n",
    "    model.eval()  #Model set to evaluation mode.\n",
    "    test_loss = 0  \n",
    "    correct = 0\n",
    "    with torch.no_grad():\n",
    "        for data, target in test_loader:\n",
    "            data, target = data.to(device), target.to(device)\n",
    "            output,x1,x2,x3,x4,x5 = model(data)   #predicting the test data\n",
    "            test_loss += F.nll_loss(output, target, reduction='sum').item()  # sum up batch loss\n",
    "            pred = output.argmax(dim=1, keepdim=True)  # get the index of the max log-probability\n",
    "            correct += pred.eq(target.view_as(pred)).sum().item()\n",
    "\n",
    "    test_loss /= len(test_loader.dataset)\n",
    "\n",
    "    print('\\nTest set: Average loss: {:.4f}, Accuracy: {}/{} ({:.4f}%)\\n'.format(\n",
    "        test_loss, correct, len(test_loader.dataset),\n",
    "        100. * correct / len(test_loader.dataset)))"
   ]
  },
  {
   "cell_type": "markdown",
   "metadata": {},
   "source": [
    "###  Model Class defination"
   ]
  },
  {
   "cell_type": "code",
   "execution_count": 8,
   "metadata": {
    "id": "h_Cx9q2QFgM7"
   },
   "outputs": [],
   "source": [
    "class Net(nn.Module):       #created a model class as Net  inhereate properties from nn.Modules\n",
    "    def __init__(self,x_times = 1):     #defining Init function.\n",
    "        super(Net, self).__init__()\n",
    "        x_times = x_times\n",
    "        self.conv1 = nn.Conv2d(1,8, 3, padding=1)    #input:28*28  OUtput:28*28 RF:3*3   (RF Considering MaxPooling doubles the RF for now)\n",
    "        self.conv2 = nn.Conv2d(8, 8, 3, padding=1)   #input:28*28  OUtput:28*28 RF:5*5\n",
    "        self.pool1 = nn.MaxPool2d(2, 2)                #input:28*28  OUtput:14*14 RF:10*10\n",
    "        self.conv3 = nn.Conv2d(8, 16, 3, padding=1)  #input:14*14  OUtput:14*14 RF:12*12\n",
    "        self.conv4 = nn.Conv2d(16, 16, 3, padding=1) #input:14*14  OUtput:14*14 RF:14*14\n",
    "        self.pool2 = nn.MaxPool2d(2, 2)                #input:14*14  OUtput:7*7 RF:28*28\n",
    "        self.conv5 = nn.Conv2d(16, 32, 3)            #input:7*7    OUtput:5*5 RF:30*30\n",
    "        self.conv6 = nn.Conv2d(32, 64, 3)           #input:5*5    OUtput:3*3 RF:32*32\n",
    "        self.conv7 = nn.Conv2d(64, 10, 3)            #input:3*3    OUtput:1*1 RF:34*34\n",
    "        \n",
    "    def forward(self, x):  #forward functions\n",
    "        x1 = self.pool1(F.relu(self.conv2(F.relu(self.conv1(x))))) #maxpool--> relu-->conv2-->relu-->conv1\n",
    "        x2 = self.pool2(F.relu(self.conv4(F.relu(self.conv3(x1))))) #maxpool--> relu-->conv4-->relu-->conv3\n",
    "        x3 = F.relu(self.conv6(F.relu(self.conv5(x2))))             #relu-->conv6-->relu-->conv5\n",
    "        x4 = self.conv7(x3)                                         #conv7\n",
    "        x5 = x4.view(-1, 10)                                        #Changing dimention of data.\n",
    "        return F.log_softmax(x5,-1),x1,x2,x3,x4,x5                           #Final log softmax layer "
   ]
  },
  {
   "cell_type": "markdown",
   "metadata": {},
   "source": [
    "### Base model "
   ]
  },
  {
   "cell_type": "code",
   "execution_count": 9,
   "metadata": {
    "id": "xdydjYTZFyi3"
   },
   "outputs": [
    {
     "name": "stdout",
     "output_type": "stream",
     "text": [
      "----------------------------------------------------------------\n",
      "        Layer (type)               Output Shape         Param #\n",
      "================================================================\n",
      "            Conv2d-1            [-1, 8, 28, 28]              80\n",
      "            Conv2d-2            [-1, 8, 28, 28]             584\n",
      "         MaxPool2d-3            [-1, 8, 14, 14]               0\n",
      "            Conv2d-4           [-1, 16, 14, 14]           1,168\n",
      "            Conv2d-5           [-1, 16, 14, 14]           2,320\n",
      "         MaxPool2d-6             [-1, 16, 7, 7]               0\n",
      "            Conv2d-7             [-1, 32, 5, 5]           4,640\n",
      "            Conv2d-8             [-1, 64, 3, 3]          18,496\n",
      "            Conv2d-9             [-1, 10, 1, 1]           5,770\n",
      "================================================================\n",
      "Total params: 33,058\n",
      "Trainable params: 33,058\n",
      "Non-trainable params: 0\n",
      "----------------------------------------------------------------\n",
      "Input size (MB): 0.00\n",
      "Forward/backward pass size (MB): 0.17\n",
      "Params size (MB): 0.13\n",
      "Estimated Total Size (MB): 0.30\n",
      "----------------------------------------------------------------\n"
     ]
    }
   ],
   "source": [
    "from torchsummary import summary   #importing torchsummary.\n",
    "model = Net(x_times = 1).to(device) #creating model and sending it to \"CPU/CUDA\"\n",
    "summary(model, input_size=(1, 28, 28))  #Printing the model summary details "
   ]
  },
  {
   "cell_type": "markdown",
   "metadata": {},
   "source": [
    "### Let's calculate the Receptive field"
   ]
  },
  {
   "cell_type": "code",
   "execution_count": 10,
   "metadata": {},
   "outputs": [
    {
     "name": "stdout",
     "output_type": "stream",
     "text": [
      "=======================================Reciptive Field Calculator========================================\n",
      "|    | Kernel_size   | Padding   |   Stride | Input_Img_size   | Output_Img_size   | Receptive_field   |\n",
      "|---:|:--------------|:----------|---------:|:-----------------|:------------------|:------------------|\n",
      "|  0 | 3*3           | 1         |        1 | 28*28            | 28*28             | 3*3               |\n",
      "|  1 | 3*3           | 1         |        1 | 28*28            | 28*28             | 5*5               |\n",
      "|  2 | 2*2           | NO        |        2 | 28*28            | 14*14             | 6*6               |\n",
      "|  3 | 3*3           | 1         |        1 | 14*14            | 14*14             | 10*10             |\n",
      "|  4 | 3*3           | 1         |        1 | 14*14            | 14*14             | 14*14             |\n",
      "|  5 | 2*2           | NO        |        2 | 14*14            | 7*7               | 16*16             |\n",
      "|  6 | 3*3           | NO        |        1 | 7*7              | 5*5               | 24*24             |\n",
      "|  7 | 3*3           | NO        |        1 | 5*5              | 3*3               | 32*32             |\n",
      "|  8 | 3*3           | NO        |        1 | 3*3              | 1*1               | 40*40             |\n",
      "=========================================================================================================\n"
     ]
    }
   ],
   "source": [
    "rf_df = receptive_field(model_obj=model,input_image=28)"
   ]
  },
  {
   "cell_type": "code",
   "execution_count": null,
   "metadata": {
    "id": "8fDefDhaFlwH"
   },
   "outputs": [],
   "source": []
  },
  {
   "cell_type": "code",
   "execution_count": 11,
   "metadata": {
    "id": "MMWbLWO6FuHb"
   },
   "outputs": [
    {
     "name": "stdout",
     "output_type": "stream",
     "text": [
      "Model Reduced the parameter 1 times the base model\n",
      "----------------------------------------------------------------\n",
      "        Layer (type)               Output Shape         Param #\n",
      "================================================================\n",
      "            Conv2d-1            [-1, 8, 28, 28]              80\n",
      "            Conv2d-2            [-1, 8, 28, 28]             584\n",
      "         MaxPool2d-3            [-1, 8, 14, 14]               0\n",
      "            Conv2d-4           [-1, 16, 14, 14]           1,168\n",
      "            Conv2d-5           [-1, 16, 14, 14]           2,320\n",
      "         MaxPool2d-6             [-1, 16, 7, 7]               0\n",
      "            Conv2d-7             [-1, 32, 5, 5]           4,640\n",
      "            Conv2d-8             [-1, 64, 3, 3]          18,496\n",
      "            Conv2d-9             [-1, 10, 1, 1]           5,770\n",
      "================================================================\n",
      "Total params: 33,058\n",
      "Trainable params: 33,058\n",
      "Non-trainable params: 0\n",
      "----------------------------------------------------------------\n",
      "Input size (MB): 0.00\n",
      "Forward/backward pass size (MB): 0.17\n",
      "Params size (MB): 0.13\n",
      "Estimated Total Size (MB): 0.30\n",
      "----------------------------------------------------------------\n"
     ]
    },
    {
     "name": "stderr",
     "output_type": "stream",
     "text": [
      "loss=0.29519322514533997 batch_id=468: 100%|█████████████████████████████████████████████████████| 469/469 [00:05<00:00, 79.33it/s]\n"
     ]
    },
    {
     "name": "stdout",
     "output_type": "stream",
     "text": [
      "\n",
      "Test set: Average loss: 0.1139, Accuracy: 9640/10000 (96.4000%)\n",
      "\n"
     ]
    }
   ],
   "source": [
    "i = 1\n",
    "print (f\"Model Reduced the parameter {i} times the base model\")\n",
    "model = Net(x_times = i).to(device) #creating model and sending it to \"CPU/CUDA\"\n",
    "summary(model, input_size=(1, 28, 28))  #Printing the model summary details \n",
    "optimizer = optim.SGD(model.parameters(), lr=0.01, momentum=0.9) # setting the optimizer\n",
    "\n",
    "for epoch in range(1, 2):    # running is for 1 epoch\n",
    "    train(model, device, train_loader, optimizer, epoch)  # Running the Train Function\n",
    "    test(model, device, test_loader)    # running the test Function"
   ]
  },
  {
   "cell_type": "markdown",
   "metadata": {},
   "source": [
    "### Let's Take one image and send it to conv and see what's happening "
   ]
  },
  {
   "cell_type": "code",
   "execution_count": 12,
   "metadata": {},
   "outputs": [],
   "source": [
    "import matplotlib.pyplot as plt"
   ]
  },
  {
   "cell_type": "code",
   "execution_count": 13,
   "metadata": {},
   "outputs": [],
   "source": [
    "for batch_idx, (data, target) in enumerate(train_loader): # Iterating through data and target\n",
    "    data, target = data.to(device), target.to(device)  #pushing data and target to gpu\n",
    "    break"
   ]
  },
  {
   "cell_type": "code",
   "execution_count": 14,
   "metadata": {},
   "outputs": [
    {
     "data": {
      "image/png": "[encoded data removed]",
      "text/plain": [
       "<Figure size 640x480 with 1 Axes>"
      ]
     },
     "metadata": {},
     "output_type": "display_data"
    }
   ],
   "source": [
    "_ = plt.imshow(data[0].reshape(28,28,-1).to('cpu'))"
   ]
  },
  {
   "cell_type": "code",
   "execution_count": 15,
   "metadata": {},
   "outputs": [
    {
     "data": {
      "text/plain": [
       "tensor(9, device='cuda:0')"
      ]
     },
     "execution_count": 15,
     "metadata": {},
     "output_type": "execute_result"
    }
   ],
   "source": [
    "target[0]"
   ]
  },
  {
   "cell_type": "code",
   "execution_count": 16,
   "metadata": {},
   "outputs": [],
   "source": [
    "output_val,x1,x2,x3,x4,x5 = model(data[0])"
   ]
  },
  {
   "cell_type": "code",
   "execution_count": 17,
   "metadata": {},
   "outputs": [
    {
     "data": {
      "text/plain": [
       "tensor([[ -4.9264, -13.4426,  -8.6280,  -8.7630,  -3.9160,  -9.7017, -10.9797,\n",
       "          -4.5816,  -7.2728,  -0.0393]], device='cuda:0',\n",
       "       grad_fn=<LogSoftmaxBackward0>)"
      ]
     },
     "execution_count": 17,
     "metadata": {},
     "output_type": "execute_result"
    }
   ],
   "source": [
    "output_val"
   ]
  },
  {
   "cell_type": "raw",
   "metadata": {},
   "source": [
    "It was ReLU causing issues before the output layer. The model's ReLU was initially filtering out negative output values as it passed the output of the convolution layer through. As a result, the LOG SOFTMAX function could only handle positive numbers, which adversely affected the model's performance.\n",
    "Due to the fact that we used two different activation functions, ReLU and LOG SOFTMAX, and that the output values were instead the outcomes of an activation function, backpropagation was unable to help the neural network fine-tune its weights.\n",
    "The LOG SOFTMAX operation took over and provided the network with exact input when the ReLU activation function was disabled. And the model Started performing well."
   ]
  },
  {
   "cell_type": "code",
   "execution_count": 18,
   "metadata": {},
   "outputs": [
    {
     "data": {
      "text/plain": [
       "torch.Size([8, 14, 14])"
      ]
     },
     "execution_count": 18,
     "metadata": {},
     "output_type": "execute_result"
    },
    {
     "data": {
      "text/plain": [
       "torch.Size([16, 7, 7])"
      ]
     },
     "execution_count": 18,
     "metadata": {},
     "output_type": "execute_result"
    },
    {
     "data": {
      "text/plain": [
       "torch.Size([64, 3, 3])"
      ]
     },
     "execution_count": 18,
     "metadata": {},
     "output_type": "execute_result"
    },
    {
     "data": {
      "text/plain": [
       "torch.Size([10, 1, 1])"
      ]
     },
     "execution_count": 18,
     "metadata": {},
     "output_type": "execute_result"
    },
    {
     "data": {
      "text/plain": [
       "torch.Size([1, 10])"
      ]
     },
     "execution_count": 18,
     "metadata": {},
     "output_type": "execute_result"
    }
   ],
   "source": [
    "x1.shape\n",
    "x2.shape\n",
    "x3.shape\n",
    "x4.shape\n",
    "x5.shape"
   ]
  },
  {
   "cell_type": "code",
   "execution_count": 19,
   "metadata": {},
   "outputs": [
    {
     "data": {
      "text/plain": [
       "tensor([[ 2.4861, -6.0302, -1.2155, -1.3506,  3.4965, -2.2892, -3.5672,  2.8308,\n",
       "          0.1397,  7.3732]], device='cuda:0', grad_fn=<ViewBackward0>)"
      ]
     },
     "execution_count": 19,
     "metadata": {},
     "output_type": "execute_result"
    }
   ],
   "source": [
    "x5"
   ]
  },
  {
   "cell_type": "markdown",
   "metadata": {},
   "source": [
    "### Difference between with relu and without relu"
   ]
  },
  {
   "cell_type": "markdown",
   "metadata": {},
   "source": [
    "##### With Relu"
   ]
  },
  {
   "cell_type": "code",
   "execution_count": 20,
   "metadata": {},
   "outputs": [
    {
     "data": {
      "text/plain": [
       "tensor([[2.4861, 0.0000, 0.0000, 0.0000, 3.4965, 0.0000, 0.0000, 2.8308, 0.1397,\n",
       "         7.3732]], device='cuda:0', grad_fn=<ReluBackward0>)"
      ]
     },
     "execution_count": 20,
     "metadata": {},
     "output_type": "execute_result"
    }
   ],
   "source": [
    "F.relu(x5)"
   ]
  },
  {
   "cell_type": "code",
   "execution_count": 21,
   "metadata": {},
   "outputs": [
    {
     "data": {
      "text/plain": [
       "tensor([[-4.9290, -7.4151, -7.4151, -7.4151, -3.9186, -7.4151, -7.4151, -4.5842,\n",
       "         -7.2754, -0.0419]], device='cuda:0', grad_fn=<LogSoftmaxBackward0>)"
      ]
     },
     "execution_count": 21,
     "metadata": {},
     "output_type": "execute_result"
    }
   ],
   "source": [
    "F.log_softmax(F.relu(x5),-1)  #Because Relu set the last layer's negative information to zero, the majority of values are identical."
   ]
  },
  {
   "cell_type": "code",
   "execution_count": 22,
   "metadata": {},
   "outputs": [
    {
     "data": {
      "text/plain": [
       "tensor([-4.9290, -7.4151, -7.4151, -7.4151, -3.9186, -7.4151, -7.4151, -4.5842,\n",
       "        -7.2754, -0.0419], device='cuda:0', grad_fn=<SqueezeBackward0>)"
      ]
     },
     "execution_count": 22,
     "metadata": {},
     "output_type": "execute_result"
    }
   ],
   "source": [
    "F.log_softmax(F.relu(x5),-1).squeeze()"
   ]
  },
  {
   "cell_type": "code",
   "execution_count": 23,
   "metadata": {},
   "outputs": [],
   "source": [
    "#loss\n",
    "l = F.nll_loss(F.log_softmax(F.relu(x5),-1).squeeze() , target[0])"
   ]
  },
  {
   "cell_type": "code",
   "execution_count": 28,
   "metadata": {},
   "outputs": [
    {
     "data": {
      "text/plain": [
       "tensor(0.0419, device='cuda:0', grad_fn=<NllLossBackward0>)"
      ]
     },
     "execution_count": 28,
     "metadata": {},
     "output_type": "execute_result"
    }
   ],
   "source": [
    "l"
   ]
  },
  {
   "cell_type": "code",
   "execution_count": 33,
   "metadata": {},
   "outputs": [
    {
     "ename": "AttributeError",
     "evalue": "'Net' object has no attribute 'layers'",
     "output_type": "error",
     "traceback": [
      "\u001b[0;31m---------------------------------------------------------------------------\u001b[0m",
      "\u001b[0;31mAttributeError\u001b[0m                            Traceback (most recent call last)",
      "Cell \u001b[0;32mIn[33], line 1\u001b[0m\n\u001b[0;32m----> 1\u001b[0m \u001b[43mmodel\u001b[49m\u001b[38;5;241;43m.\u001b[39;49m\u001b[43mlayers\u001b[49m\n",
      "File \u001b[0;32m~/miniconda3/envs/eva/lib/python3.10/site-packages/torch/nn/modules/module.py:1265\u001b[0m, in \u001b[0;36mModule.__getattr__\u001b[0;34m(self, name)\u001b[0m\n\u001b[1;32m   1263\u001b[0m     \u001b[38;5;28;01mif\u001b[39;00m name \u001b[38;5;129;01min\u001b[39;00m modules:\n\u001b[1;32m   1264\u001b[0m         \u001b[38;5;28;01mreturn\u001b[39;00m modules[name]\n\u001b[0;32m-> 1265\u001b[0m \u001b[38;5;28;01mraise\u001b[39;00m \u001b[38;5;167;01mAttributeError\u001b[39;00m(\u001b[38;5;124m\"\u001b[39m\u001b[38;5;124m'\u001b[39m\u001b[38;5;132;01m{}\u001b[39;00m\u001b[38;5;124m'\u001b[39m\u001b[38;5;124m object has no attribute \u001b[39m\u001b[38;5;124m'\u001b[39m\u001b[38;5;132;01m{}\u001b[39;00m\u001b[38;5;124m'\u001b[39m\u001b[38;5;124m\"\u001b[39m\u001b[38;5;241m.\u001b[39mformat(\n\u001b[1;32m   1266\u001b[0m     \u001b[38;5;28mtype\u001b[39m(\u001b[38;5;28mself\u001b[39m)\u001b[38;5;241m.\u001b[39m\u001b[38;5;18m__name__\u001b[39m, name))\n",
      "\u001b[0;31mAttributeError\u001b[0m: 'Net' object has no attribute 'layers'"
     ]
    }
   ],
   "source": []
  },
  {
   "cell_type": "code",
   "execution_count": 31,
   "metadata": {},
   "outputs": [
    {
     "ename": "TypeError",
     "evalue": "'Conv2d' object is not subscriptable",
     "output_type": "error",
     "traceback": [
      "\u001b[0;31m---------------------------------------------------------------------------\u001b[0m",
      "\u001b[0;31mTypeError\u001b[0m                                 Traceback (most recent call last)",
      "Cell \u001b[0;32mIn[31], line 1\u001b[0m\n\u001b[0;32m----> 1\u001b[0m filters,biases \u001b[38;5;241m=\u001b[39m \u001b[43mmodel\u001b[49m\u001b[38;5;241;43m.\u001b[39;49m\u001b[43mconv7\u001b[49m\u001b[43m[\u001b[49m\u001b[38;5;241;43m1\u001b[39;49m\u001b[43m]\u001b[49m\u001b[38;5;241m.\u001b[39mget_parameter()\n",
      "\u001b[0;31mTypeError\u001b[0m: 'Conv2d' object is not subscriptable"
     ]
    }
   ],
   "source": [
    "filters,biases = model.conv7[1].get_parameter()"
   ]
  },
  {
   "cell_type": "markdown",
   "metadata": {},
   "source": [
    "##### Without Relu"
   ]
  },
  {
   "cell_type": "code",
   "execution_count": 24,
   "metadata": {},
   "outputs": [
    {
     "data": {
      "text/plain": [
       "tensor([[ 2.4861, -6.0302, -1.2155, -1.3506,  3.4965, -2.2892, -3.5672,  2.8308,\n",
       "          0.1397,  7.3732]], device='cuda:0', grad_fn=<ViewBackward0>)"
      ]
     },
     "execution_count": 24,
     "metadata": {},
     "output_type": "execute_result"
    }
   ],
   "source": [
    "x5"
   ]
  },
  {
   "cell_type": "code",
   "execution_count": 25,
   "metadata": {},
   "outputs": [
    {
     "data": {
      "text/plain": [
       "tensor([[ -4.9264, -13.4426,  -8.6280,  -8.7630,  -3.9160,  -9.7017, -10.9797,\n",
       "          -4.5816,  -7.2728,  -0.0393]], device='cuda:0',\n",
       "       grad_fn=<LogSoftmaxBackward0>)"
      ]
     },
     "execution_count": 25,
     "metadata": {},
     "output_type": "execute_result"
    }
   ],
   "source": [
    "F.log_softmax(x5,-1)  #Because Relu set the last layer's negative information to zero, the majority of values are identical."
   ]
  },
  {
   "cell_type": "code",
   "execution_count": 26,
   "metadata": {},
   "outputs": [
    {
     "data": {
      "text/plain": [
       "tensor([ -4.9264, -13.4426,  -8.6280,  -8.7630,  -3.9160,  -9.7017, -10.9797,\n",
       "         -4.5816,  -7.2728,  -0.0393], device='cuda:0',\n",
       "       grad_fn=<SqueezeBackward0>)"
      ]
     },
     "execution_count": 26,
     "metadata": {},
     "output_type": "execute_result"
    }
   ],
   "source": [
    "F.log_softmax(x5,-1).squeeze()"
   ]
  },
  {
   "cell_type": "code",
   "execution_count": 27,
   "metadata": {},
   "outputs": [
    {
     "data": {
      "text/plain": [
       "tensor(0.0393, device='cuda:0', grad_fn=<NllLossBackward0>)"
      ]
     },
     "execution_count": 27,
     "metadata": {},
     "output_type": "execute_result"
    }
   ],
   "source": [
    "#loss\n",
    "F.nll_loss(F.log_softmax(x5,-1).squeeze() , target[0])"
   ]
  },
  {
   "cell_type": "markdown",
   "metadata": {},
   "source": [
    "### Let's Visualize some kernels we trainned"
   ]
  },
  {
   "cell_type": "code",
   "execution_count": 58,
   "metadata": {},
   "outputs": [],
   "source": [
    "import matplotlib.pyplot as plt\n",
    "from torchvision import utils\n",
    "import numpy as np\n",
    "\n",
    "def visTensor(tensor, ch=0, allkernels=False, nrow=8, padding=1): \n",
    "    n,c,w,h = tensor.shape\n",
    "\n",
    "    if allkernels: tensor = tensor.view(n*c, -1, w, h)\n",
    "    elif c != 3: tensor = tensor[:,ch,:,:].unsqueeze(dim=1)\n",
    "\n",
    "    rows = np.min((tensor.shape[0] // nrow + 1, 64))    \n",
    "    grid = utils.make_grid(tensor, nrow=nrow, normalize=True, padding=padding)\n",
    "    plt.figure( figsize=(nrow,rows) )\n",
    "    plt.imshow(grid.cpu().numpy().transpose((1, 2, 0)))\n",
    "\n",
    "\n",
    "def print_layer(filter):\n",
    "    # layer = ['conv1','conv2','conv3','conv4','conv5','conv6','conv7']\n",
    "    filter = filter\n",
    "    visTensor(filter, ch=0, allkernels=False)\n",
    "\n",
    "    plt.axis('off')\n",
    "    plt.ioff()\n",
    "    plt.show()"
   ]
  },
  {
   "cell_type": "code",
   "execution_count": 59,
   "metadata": {},
   "outputs": [
    {
     "data": {
      "image/png": "[encoded data removed]",
      "text/plain": [
       "<Figure size 800x200 with 1 Axes>"
      ]
     },
     "metadata": {},
     "output_type": "display_data"
    }
   ],
   "source": [
    "print_layer(model.conv7.weight.detach().clone())"
   ]
  },
  {
   "cell_type": "code",
   "execution_count": 60,
   "metadata": {},
   "outputs": [
    {
     "data": {
      "image/png": "[encoded data removed]",
      "text/plain": [
       "<Figure size 800x900 with 1 Axes>"
      ]
     },
     "metadata": {},
     "output_type": "display_data"
    }
   ],
   "source": [
    "print_layer(model.conv6.weight.detach().clone())"
   ]
  },
  {
   "cell_type": "code",
   "execution_count": 61,
   "metadata": {},
   "outputs": [
    {
     "data": {
      "image/png": "[encoded data removed]",
      "text/plain": [
       "<Figure size 800x500 with 1 Axes>"
      ]
     },
     "metadata": {},
     "output_type": "display_data"
    }
   ],
   "source": [
    "print_layer(model.conv5.weight.detach().clone())"
   ]
  },
  {
   "cell_type": "code",
   "execution_count": 62,
   "metadata": {},
   "outputs": [
    {
     "data": {
      "image/png": "[encoded data removed]",
      "text/plain": [
       "<Figure size 800x300 with 1 Axes>"
      ]
     },
     "metadata": {},
     "output_type": "display_data"
    }
   ],
   "source": [
    "print_layer(model.conv4.weight.detach().clone())"
   ]
  },
  {
   "cell_type": "code",
   "execution_count": 63,
   "metadata": {},
   "outputs": [
    {
     "data": {
      "image/png": "[encoded data removed]",
      "text/plain": [
       "<Figure size 800x300 with 1 Axes>"
      ]
     },
     "metadata": {},
     "output_type": "display_data"
    }
   ],
   "source": [
    "print_layer(model.conv3.weight.detach().clone())"
   ]
  },
  {
   "cell_type": "code",
   "execution_count": 64,
   "metadata": {},
   "outputs": [
    {
     "data": {
      "image/png": "[encoded data removed]",
      "text/plain": [
       "<Figure size 800x200 with 1 Axes>"
      ]
     },
     "metadata": {},
     "output_type": "display_data"
    }
   ],
   "source": [
    "print_layer(model.conv2.weight.detach().clone())"
   ]
  },
  {
   "cell_type": "code",
   "execution_count": 65,
   "metadata": {},
   "outputs": [
    {
     "data": {
      "image/png": "[encoded data removed]",
      "text/plain": [
       "<Figure size 800x200 with 1 Axes>"
      ]
     },
     "metadata": {},
     "output_type": "display_data"
    }
   ],
   "source": [
    "print_layer(model.conv1.weight.detach().clone())"
   ]
  },
  {
   "cell_type": "code",
   "execution_count": null,
   "metadata": {},
   "outputs": [],
   "source": []
  }
 ],
 "metadata": {
  "accelerator": "GPU",
  "colab": {
   "provenance": []
  },
  "gpuClass": "standard",
  "kernelspec": {
   "display_name": "Python 3 (ipykernel)",
   "language": "python",
   "name": "python3"
  },
  "language_info": {
   "codemirror_mode": {
    "name": "ipython",
    "version": 3
   },
   "file_extension": ".py",
   "mimetype": "text/x-python",
   "name": "python",
   "nbconvert_exporter": "python",
   "pygments_lexer": "ipython3",
   "version": "3.10.8"
  }
 },
 "nbformat": 4,
 "nbformat_minor": 4
}
